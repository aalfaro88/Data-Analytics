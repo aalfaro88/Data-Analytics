{
 "cells": [
  {
   "cell_type": "markdown",
   "id": "1f8c30ab",
   "metadata": {},
   "source": [
    "# Lab | Unsupervised learning intro\n",
    "\n",
    "### Instructions\n",
    "It's the moment to perform clustering on the songs you collected. Remember that the ultimate goal of this little project is to improve the recommendations of artists. Clustering the songs will allow the recommendation system to limit the scope of the recommendations to only songs that belong to the same cluster - songs with similar audio features.\n",
    "\n",
    "The experiments you did with the Spotify API and the Billboard web scraping will allow you to create a pipeline such that when the user enters a song, you:\n",
    "\n",
    "* Check whether or not the song is in the Billboard Hot 200.\n",
    "* Collect the audio features from the Spotify API.\n",
    "* **After that, you want to send the Spotify audio features of the submitted song to the clustering model, which should return a cluster number.**\n",
    "\n",
    "We want to have as many songs as possible to create the clustering model, so we will add the songs you collected to a bigger dataset available on Kaggle containing 160 thousand songs."
   ]
  },
  {
   "cell_type": "code",
   "execution_count": 1,
   "id": "8402a213",
   "metadata": {},
   "outputs": [],
   "source": [
    "import pandas as pd\n",
    "import numpy as np\n",
    "from sklearn.cluster import KMeans\n",
    "from sklearn.preprocessing import LabelEncoder"
   ]
  },
  {
   "cell_type": "code",
   "execution_count": 2,
   "id": "201980aa",
   "metadata": {},
   "outputs": [],
   "source": [
    "billboard=pd.read_excel(\"billboard_top_100.xlsx\")\n",
    "spotify=pd.read_excel(\"spotify.xlsx\")"
   ]
  },
  {
   "cell_type": "code",
   "execution_count": 3,
   "id": "70e3a746",
   "metadata": {},
   "outputs": [],
   "source": [
    "billboard=billboard.drop(\"Unnamed: 0\",axis=1)\n",
    "spotify=spotify.drop(\"Unnamed: 0\",axis=1)"
   ]
  },
  {
   "cell_type": "markdown",
   "id": "2753a460",
   "metadata": {},
   "source": [
    "### Checking if song is in top 100"
   ]
  },
  {
   "cell_type": "code",
   "execution_count": 4,
   "id": "07765caa",
   "metadata": {},
   "outputs": [
    {
     "name": "stdout",
     "output_type": "stream",
     "text": [
      "Kill Bill\n"
     ]
    }
   ],
   "source": [
    "my_song=input()"
   ]
  },
  {
   "cell_type": "code",
   "execution_count": 5,
   "id": "d9465d1b",
   "metadata": {},
   "outputs": [
    {
     "name": "stdout",
     "output_type": "stream",
     "text": [
      "Kill Bill by SZA is number 2 of the billboard top 100\n"
     ]
    }
   ],
   "source": [
    "if my_song in billboard[\"Song\"].values:\n",
    "    song_index = billboard.loc[billboard[\"Song\"] == my_song].index[0]\n",
    "    artist_name = billboard.loc[song_index, \"Artist\"]\n",
    "    print(f\"{my_song} by {artist_name} is number {song_index+1} of the billboard top 100\")\n",
    "else:\n",
    "    print(f\"{my_song} was not found in the billboard dataframe.\")"
   ]
  },
  {
   "cell_type": "markdown",
   "id": "54116e90",
   "metadata": {},
   "source": [
    "### Clustering Spotify Audio Feautures"
   ]
  },
  {
   "cell_type": "code",
   "execution_count": 6,
   "id": "cfe9d8b3",
   "metadata": {},
   "outputs": [
    {
     "data": {
      "text/html": [
       "<div>\n",
       "<style scoped>\n",
       "    .dataframe tbody tr th:only-of-type {\n",
       "        vertical-align: middle;\n",
       "    }\n",
       "\n",
       "    .dataframe tbody tr th {\n",
       "        vertical-align: top;\n",
       "    }\n",
       "\n",
       "    .dataframe thead th {\n",
       "        text-align: right;\n",
       "    }\n",
       "</style>\n",
       "<table border=\"1\" class=\"dataframe\">\n",
       "  <thead>\n",
       "    <tr style=\"text-align: right;\">\n",
       "      <th></th>\n",
       "      <th>artist_id</th>\n",
       "      <th>artist_name</th>\n",
       "      <th>song_name</th>\n",
       "      <th>song_id</th>\n",
       "      <th>danceability</th>\n",
       "      <th>energy</th>\n",
       "      <th>key</th>\n",
       "      <th>loudness</th>\n",
       "      <th>mode</th>\n",
       "      <th>speechiness</th>\n",
       "      <th>acousticness</th>\n",
       "      <th>instrumentalness</th>\n",
       "      <th>liveness</th>\n",
       "      <th>tempo</th>\n",
       "      <th>valence</th>\n",
       "      <th>duration</th>\n",
       "      <th>genre</th>\n",
       "      <th>genre_encoded</th>\n",
       "    </tr>\n",
       "  </thead>\n",
       "  <tbody>\n",
       "    <tr>\n",
       "      <th>0</th>\n",
       "      <td>06HL4z0CvFAxyc27GXpf02</td>\n",
       "      <td>Taylor Swift</td>\n",
       "      <td>Anti-Hero</td>\n",
       "      <td>0V3wPSX9ygBnCm8psDIegu</td>\n",
       "      <td>0.637</td>\n",
       "      <td>0.643</td>\n",
       "      <td>4</td>\n",
       "      <td>-6.571</td>\n",
       "      <td>1</td>\n",
       "      <td>0.0519</td>\n",
       "      <td>0.1300</td>\n",
       "      <td>0.000002</td>\n",
       "      <td>0.142</td>\n",
       "      <td>97.008</td>\n",
       "      <td>0.5330</td>\n",
       "      <td>200690</td>\n",
       "      <td>pop</td>\n",
       "      <td>9</td>\n",
       "    </tr>\n",
       "    <tr>\n",
       "      <th>1</th>\n",
       "      <td>06HL4z0CvFAxyc27GXpf02</td>\n",
       "      <td>Taylor Swift</td>\n",
       "      <td>Blank Space</td>\n",
       "      <td>1p80LdxRV74UKvL8gnD7ky</td>\n",
       "      <td>0.753</td>\n",
       "      <td>0.678</td>\n",
       "      <td>5</td>\n",
       "      <td>-5.421</td>\n",
       "      <td>1</td>\n",
       "      <td>0.0644</td>\n",
       "      <td>0.0850</td>\n",
       "      <td>0.000002</td>\n",
       "      <td>0.130</td>\n",
       "      <td>96.006</td>\n",
       "      <td>0.5830</td>\n",
       "      <td>231827</td>\n",
       "      <td>pop</td>\n",
       "      <td>9</td>\n",
       "    </tr>\n",
       "    <tr>\n",
       "      <th>2</th>\n",
       "      <td>06HL4z0CvFAxyc27GXpf02</td>\n",
       "      <td>Taylor Swift</td>\n",
       "      <td>Cruel Summer</td>\n",
       "      <td>1BxfuPKGuaTgP7aM0Bbdwr</td>\n",
       "      <td>0.552</td>\n",
       "      <td>0.702</td>\n",
       "      <td>9</td>\n",
       "      <td>-5.707</td>\n",
       "      <td>1</td>\n",
       "      <td>0.1570</td>\n",
       "      <td>0.1170</td>\n",
       "      <td>0.000021</td>\n",
       "      <td>0.105</td>\n",
       "      <td>169.994</td>\n",
       "      <td>0.5640</td>\n",
       "      <td>178427</td>\n",
       "      <td>pop</td>\n",
       "      <td>9</td>\n",
       "    </tr>\n",
       "    <tr>\n",
       "      <th>3</th>\n",
       "      <td>06HL4z0CvFAxyc27GXpf02</td>\n",
       "      <td>Taylor Swift</td>\n",
       "      <td>All Of The Girls You Loved Before</td>\n",
       "      <td>4P9Q0GojKVXpRTJCaL3kyy</td>\n",
       "      <td>0.718</td>\n",
       "      <td>0.467</td>\n",
       "      <td>2</td>\n",
       "      <td>-9.660</td>\n",
       "      <td>1</td>\n",
       "      <td>0.0398</td>\n",
       "      <td>0.7070</td>\n",
       "      <td>0.000069</td>\n",
       "      <td>0.126</td>\n",
       "      <td>95.960</td>\n",
       "      <td>0.3960</td>\n",
       "      <td>221407</td>\n",
       "      <td>pop</td>\n",
       "      <td>9</td>\n",
       "    </tr>\n",
       "    <tr>\n",
       "      <th>4</th>\n",
       "      <td>06HL4z0CvFAxyc27GXpf02</td>\n",
       "      <td>Taylor Swift</td>\n",
       "      <td>Lavender Haze</td>\n",
       "      <td>5jQI2r1RdgtuT8S3iG8zFC</td>\n",
       "      <td>0.733</td>\n",
       "      <td>0.436</td>\n",
       "      <td>10</td>\n",
       "      <td>-10.489</td>\n",
       "      <td>1</td>\n",
       "      <td>0.0800</td>\n",
       "      <td>0.2580</td>\n",
       "      <td>0.000573</td>\n",
       "      <td>0.157</td>\n",
       "      <td>96.985</td>\n",
       "      <td>0.0976</td>\n",
       "      <td>202396</td>\n",
       "      <td>pop</td>\n",
       "      <td>9</td>\n",
       "    </tr>\n",
       "    <tr>\n",
       "      <th>...</th>\n",
       "      <td>...</td>\n",
       "      <td>...</td>\n",
       "      <td>...</td>\n",
       "      <td>...</td>\n",
       "      <td>...</td>\n",
       "      <td>...</td>\n",
       "      <td>...</td>\n",
       "      <td>...</td>\n",
       "      <td>...</td>\n",
       "      <td>...</td>\n",
       "      <td>...</td>\n",
       "      <td>...</td>\n",
       "      <td>...</td>\n",
       "      <td>...</td>\n",
       "      <td>...</td>\n",
       "      <td>...</td>\n",
       "      <td>...</td>\n",
       "      <td>...</td>\n",
       "    </tr>\n",
       "    <tr>\n",
       "      <th>6745</th>\n",
       "      <td>4TwHRCIu3Xg9fjS3l7owkp</td>\n",
       "      <td>The Gap Band</td>\n",
       "      <td>Burn Rubber On Me (Why You Wanna Hurt Me)</td>\n",
       "      <td>32YzjV133gteg9LMBGO2OA</td>\n",
       "      <td>0.764</td>\n",
       "      <td>0.733</td>\n",
       "      <td>11</td>\n",
       "      <td>-10.763</td>\n",
       "      <td>0</td>\n",
       "      <td>0.0538</td>\n",
       "      <td>0.0986</td>\n",
       "      <td>0.001040</td>\n",
       "      <td>0.171</td>\n",
       "      <td>116.185</td>\n",
       "      <td>0.8870</td>\n",
       "      <td>252307</td>\n",
       "      <td>funk</td>\n",
       "      <td>5</td>\n",
       "    </tr>\n",
       "    <tr>\n",
       "      <th>6746</th>\n",
       "      <td>4TwHRCIu3Xg9fjS3l7owkp</td>\n",
       "      <td>The Gap Band</td>\n",
       "      <td>Early In The Morning</td>\n",
       "      <td>0sLqiSi6TdS9PNrGbGumw7</td>\n",
       "      <td>0.719</td>\n",
       "      <td>0.826</td>\n",
       "      <td>4</td>\n",
       "      <td>-9.525</td>\n",
       "      <td>0</td>\n",
       "      <td>0.0456</td>\n",
       "      <td>0.1170</td>\n",
       "      <td>0.012500</td>\n",
       "      <td>0.924</td>\n",
       "      <td>122.830</td>\n",
       "      <td>0.8250</td>\n",
       "      <td>390000</td>\n",
       "      <td>funk</td>\n",
       "      <td>5</td>\n",
       "    </tr>\n",
       "    <tr>\n",
       "      <th>6747</th>\n",
       "      <td>4TwHRCIu3Xg9fjS3l7owkp</td>\n",
       "      <td>The Gap Band</td>\n",
       "      <td>Early In The Morning - 12\" Version</td>\n",
       "      <td>46llPK4QUykzRkMWxoAjcP</td>\n",
       "      <td>0.697</td>\n",
       "      <td>0.809</td>\n",
       "      <td>4</td>\n",
       "      <td>-10.358</td>\n",
       "      <td>0</td>\n",
       "      <td>0.0414</td>\n",
       "      <td>0.0405</td>\n",
       "      <td>0.009490</td>\n",
       "      <td>0.894</td>\n",
       "      <td>121.376</td>\n",
       "      <td>0.8210</td>\n",
       "      <td>456733</td>\n",
       "      <td>funk</td>\n",
       "      <td>5</td>\n",
       "    </tr>\n",
       "    <tr>\n",
       "      <th>6748</th>\n",
       "      <td>4TwHRCIu3Xg9fjS3l7owkp</td>\n",
       "      <td>The Gap Band</td>\n",
       "      <td>Party Train</td>\n",
       "      <td>2ULLfb35Xp05d8QbbKXlXw</td>\n",
       "      <td>0.734</td>\n",
       "      <td>0.770</td>\n",
       "      <td>4</td>\n",
       "      <td>-8.521</td>\n",
       "      <td>0</td>\n",
       "      <td>0.0498</td>\n",
       "      <td>0.0635</td>\n",
       "      <td>0.006240</td>\n",
       "      <td>0.214</td>\n",
       "      <td>127.521</td>\n",
       "      <td>0.8700</td>\n",
       "      <td>347253</td>\n",
       "      <td>funk</td>\n",
       "      <td>5</td>\n",
       "    </tr>\n",
       "    <tr>\n",
       "      <th>6749</th>\n",
       "      <td>4TwHRCIu3Xg9fjS3l7owkp</td>\n",
       "      <td>The Gap Band</td>\n",
       "      <td>I Don't Believe You Want To Get Up And Dance (...</td>\n",
       "      <td>7l0nTXAz0gzUkKBU2EXP4G</td>\n",
       "      <td>0.646</td>\n",
       "      <td>0.786</td>\n",
       "      <td>11</td>\n",
       "      <td>-10.308</td>\n",
       "      <td>0</td>\n",
       "      <td>0.1490</td>\n",
       "      <td>0.2460</td>\n",
       "      <td>0.000003</td>\n",
       "      <td>0.387</td>\n",
       "      <td>103.666</td>\n",
       "      <td>0.8140</td>\n",
       "      <td>211067</td>\n",
       "      <td>funk</td>\n",
       "      <td>5</td>\n",
       "    </tr>\n",
       "  </tbody>\n",
       "</table>\n",
       "<p>6750 rows × 18 columns</p>\n",
       "</div>"
      ],
      "text/plain": [
       "                   artist_id   artist_name  \\\n",
       "0     06HL4z0CvFAxyc27GXpf02  Taylor Swift   \n",
       "1     06HL4z0CvFAxyc27GXpf02  Taylor Swift   \n",
       "2     06HL4z0CvFAxyc27GXpf02  Taylor Swift   \n",
       "3     06HL4z0CvFAxyc27GXpf02  Taylor Swift   \n",
       "4     06HL4z0CvFAxyc27GXpf02  Taylor Swift   \n",
       "...                      ...           ...   \n",
       "6745  4TwHRCIu3Xg9fjS3l7owkp  The Gap Band   \n",
       "6746  4TwHRCIu3Xg9fjS3l7owkp  The Gap Band   \n",
       "6747  4TwHRCIu3Xg9fjS3l7owkp  The Gap Band   \n",
       "6748  4TwHRCIu3Xg9fjS3l7owkp  The Gap Band   \n",
       "6749  4TwHRCIu3Xg9fjS3l7owkp  The Gap Band   \n",
       "\n",
       "                                              song_name  \\\n",
       "0                                             Anti-Hero   \n",
       "1                                           Blank Space   \n",
       "2                                          Cruel Summer   \n",
       "3                     All Of The Girls You Loved Before   \n",
       "4                                         Lavender Haze   \n",
       "...                                                 ...   \n",
       "6745          Burn Rubber On Me (Why You Wanna Hurt Me)   \n",
       "6746                               Early In The Morning   \n",
       "6747                 Early In The Morning - 12\" Version   \n",
       "6748                                        Party Train   \n",
       "6749  I Don't Believe You Want To Get Up And Dance (...   \n",
       "\n",
       "                     song_id  danceability  energy  key  loudness  mode  \\\n",
       "0     0V3wPSX9ygBnCm8psDIegu         0.637   0.643    4    -6.571     1   \n",
       "1     1p80LdxRV74UKvL8gnD7ky         0.753   0.678    5    -5.421     1   \n",
       "2     1BxfuPKGuaTgP7aM0Bbdwr         0.552   0.702    9    -5.707     1   \n",
       "3     4P9Q0GojKVXpRTJCaL3kyy         0.718   0.467    2    -9.660     1   \n",
       "4     5jQI2r1RdgtuT8S3iG8zFC         0.733   0.436   10   -10.489     1   \n",
       "...                      ...           ...     ...  ...       ...   ...   \n",
       "6745  32YzjV133gteg9LMBGO2OA         0.764   0.733   11   -10.763     0   \n",
       "6746  0sLqiSi6TdS9PNrGbGumw7         0.719   0.826    4    -9.525     0   \n",
       "6747  46llPK4QUykzRkMWxoAjcP         0.697   0.809    4   -10.358     0   \n",
       "6748  2ULLfb35Xp05d8QbbKXlXw         0.734   0.770    4    -8.521     0   \n",
       "6749  7l0nTXAz0gzUkKBU2EXP4G         0.646   0.786   11   -10.308     0   \n",
       "\n",
       "      speechiness  acousticness  instrumentalness  liveness    tempo  valence  \\\n",
       "0          0.0519        0.1300          0.000002     0.142   97.008   0.5330   \n",
       "1          0.0644        0.0850          0.000002     0.130   96.006   0.5830   \n",
       "2          0.1570        0.1170          0.000021     0.105  169.994   0.5640   \n",
       "3          0.0398        0.7070          0.000069     0.126   95.960   0.3960   \n",
       "4          0.0800        0.2580          0.000573     0.157   96.985   0.0976   \n",
       "...           ...           ...               ...       ...      ...      ...   \n",
       "6745       0.0538        0.0986          0.001040     0.171  116.185   0.8870   \n",
       "6746       0.0456        0.1170          0.012500     0.924  122.830   0.8250   \n",
       "6747       0.0414        0.0405          0.009490     0.894  121.376   0.8210   \n",
       "6748       0.0498        0.0635          0.006240     0.214  127.521   0.8700   \n",
       "6749       0.1490        0.2460          0.000003     0.387  103.666   0.8140   \n",
       "\n",
       "      duration genre  genre_encoded  \n",
       "0       200690   pop              9  \n",
       "1       231827   pop              9  \n",
       "2       178427   pop              9  \n",
       "3       221407   pop              9  \n",
       "4       202396   pop              9  \n",
       "...        ...   ...            ...  \n",
       "6745    252307  funk              5  \n",
       "6746    390000  funk              5  \n",
       "6747    456733  funk              5  \n",
       "6748    347253  funk              5  \n",
       "6749    211067  funk              5  \n",
       "\n",
       "[6750 rows x 18 columns]"
      ]
     },
     "execution_count": 6,
     "metadata": {},
     "output_type": "execute_result"
    }
   ],
   "source": [
    "le = LabelEncoder()\n",
    "spotify[\"genre_encoded\"] = le.fit_transform(spotify[\"genre\"])\n",
    "spotify"
   ]
  },
  {
   "cell_type": "code",
   "execution_count": 7,
   "id": "026e8478",
   "metadata": {},
   "outputs": [],
   "source": [
    "#Getting audio features (We will not consider duration)\n",
    "audio_features = [\"danceability\", \"energy\", \"key\", \"loudness\", \"mode\", \"speechiness\", \"acousticness\", \"instrumentalness\", \"liveness\", \"tempo\", \"valence\",\"genre_encoded\"]\n",
    "X = spotify[audio_features].values\n"
   ]
  },
  {
   "cell_type": "code",
   "execution_count": 8,
   "id": "3e5dc10d",
   "metadata": {},
   "outputs": [
    {
     "name": "stderr",
     "output_type": "stream",
     "text": [
      "/Users/albertoalfaro/opt/anaconda3/lib/python3.9/site-packages/sklearn/cluster/_kmeans.py:870: FutureWarning: The default value of `n_init` will change from 10 to 'auto' in 1.4. Set the value of `n_init` explicitly to suppress the warning\n",
      "  warnings.warn(\n"
     ]
    },
    {
     "name": "stdout",
     "output_type": "stream",
     "text": [
      "The average silhouette_score is : 0.5134784310119127  for number of clusters: 2\n"
     ]
    },
    {
     "name": "stderr",
     "output_type": "stream",
     "text": [
      "/Users/albertoalfaro/opt/anaconda3/lib/python3.9/site-packages/sklearn/cluster/_kmeans.py:870: FutureWarning: The default value of `n_init` will change from 10 to 'auto' in 1.4. Set the value of `n_init` explicitly to suppress the warning\n",
      "  warnings.warn(\n"
     ]
    },
    {
     "name": "stdout",
     "output_type": "stream",
     "text": [
      "The average silhouette_score is : 0.47461891341199247  for number of clusters: 3\n"
     ]
    },
    {
     "name": "stderr",
     "output_type": "stream",
     "text": [
      "/Users/albertoalfaro/opt/anaconda3/lib/python3.9/site-packages/sklearn/cluster/_kmeans.py:870: FutureWarning: The default value of `n_init` will change from 10 to 'auto' in 1.4. Set the value of `n_init` explicitly to suppress the warning\n",
      "  warnings.warn(\n"
     ]
    },
    {
     "name": "stdout",
     "output_type": "stream",
     "text": [
      "The average silhouette_score is : 0.39031273612674167  for number of clusters: 4\n"
     ]
    },
    {
     "name": "stderr",
     "output_type": "stream",
     "text": [
      "/Users/albertoalfaro/opt/anaconda3/lib/python3.9/site-packages/sklearn/cluster/_kmeans.py:870: FutureWarning: The default value of `n_init` will change from 10 to 'auto' in 1.4. Set the value of `n_init` explicitly to suppress the warning\n",
      "  warnings.warn(\n"
     ]
    },
    {
     "name": "stdout",
     "output_type": "stream",
     "text": [
      "The average silhouette_score is : 0.37756671391976854  for number of clusters: 5\n"
     ]
    },
    {
     "name": "stderr",
     "output_type": "stream",
     "text": [
      "/Users/albertoalfaro/opt/anaconda3/lib/python3.9/site-packages/sklearn/cluster/_kmeans.py:870: FutureWarning: The default value of `n_init` will change from 10 to 'auto' in 1.4. Set the value of `n_init` explicitly to suppress the warning\n",
      "  warnings.warn(\n"
     ]
    },
    {
     "name": "stdout",
     "output_type": "stream",
     "text": [
      "The average silhouette_score is : 0.3270440432223873  for number of clusters: 6\n"
     ]
    },
    {
     "name": "stderr",
     "output_type": "stream",
     "text": [
      "/Users/albertoalfaro/opt/anaconda3/lib/python3.9/site-packages/sklearn/cluster/_kmeans.py:870: FutureWarning: The default value of `n_init` will change from 10 to 'auto' in 1.4. Set the value of `n_init` explicitly to suppress the warning\n",
      "  warnings.warn(\n"
     ]
    },
    {
     "name": "stdout",
     "output_type": "stream",
     "text": [
      "The average silhouette_score is : 0.31096839009458915  for number of clusters: 7\n"
     ]
    },
    {
     "name": "stderr",
     "output_type": "stream",
     "text": [
      "/Users/albertoalfaro/opt/anaconda3/lib/python3.9/site-packages/sklearn/cluster/_kmeans.py:870: FutureWarning: The default value of `n_init` will change from 10 to 'auto' in 1.4. Set the value of `n_init` explicitly to suppress the warning\n",
      "  warnings.warn(\n"
     ]
    },
    {
     "name": "stdout",
     "output_type": "stream",
     "text": [
      "The average silhouette_score is : 0.3118162865303701  for number of clusters: 8\n"
     ]
    },
    {
     "name": "stderr",
     "output_type": "stream",
     "text": [
      "/Users/albertoalfaro/opt/anaconda3/lib/python3.9/site-packages/sklearn/cluster/_kmeans.py:870: FutureWarning: The default value of `n_init` will change from 10 to 'auto' in 1.4. Set the value of `n_init` explicitly to suppress the warning\n",
      "  warnings.warn(\n"
     ]
    },
    {
     "name": "stdout",
     "output_type": "stream",
     "text": [
      "The average silhouette_score is : 0.3186930681565478  for number of clusters: 9\n"
     ]
    },
    {
     "name": "stderr",
     "output_type": "stream",
     "text": [
      "/Users/albertoalfaro/opt/anaconda3/lib/python3.9/site-packages/sklearn/cluster/_kmeans.py:870: FutureWarning: The default value of `n_init` will change from 10 to 'auto' in 1.4. Set the value of `n_init` explicitly to suppress the warning\n",
      "  warnings.warn(\n"
     ]
    },
    {
     "name": "stdout",
     "output_type": "stream",
     "text": [
      "The average silhouette_score is : 0.29827388895907386  for number of clusters: 10\n"
     ]
    },
    {
     "name": "stderr",
     "output_type": "stream",
     "text": [
      "/Users/albertoalfaro/opt/anaconda3/lib/python3.9/site-packages/sklearn/cluster/_kmeans.py:870: FutureWarning: The default value of `n_init` will change from 10 to 'auto' in 1.4. Set the value of `n_init` explicitly to suppress the warning\n",
      "  warnings.warn(\n"
     ]
    },
    {
     "name": "stdout",
     "output_type": "stream",
     "text": [
      "The average silhouette_score is : 0.3081114465930615  for number of clusters: 11\n"
     ]
    },
    {
     "name": "stderr",
     "output_type": "stream",
     "text": [
      "/Users/albertoalfaro/opt/anaconda3/lib/python3.9/site-packages/sklearn/cluster/_kmeans.py:870: FutureWarning: The default value of `n_init` will change from 10 to 'auto' in 1.4. Set the value of `n_init` explicitly to suppress the warning\n",
      "  warnings.warn(\n"
     ]
    },
    {
     "name": "stdout",
     "output_type": "stream",
     "text": [
      "The average silhouette_score is : 0.27277978684865417  for number of clusters: 12\n"
     ]
    },
    {
     "name": "stderr",
     "output_type": "stream",
     "text": [
      "/Users/albertoalfaro/opt/anaconda3/lib/python3.9/site-packages/sklearn/cluster/_kmeans.py:870: FutureWarning: The default value of `n_init` will change from 10 to 'auto' in 1.4. Set the value of `n_init` explicitly to suppress the warning\n",
      "  warnings.warn(\n"
     ]
    },
    {
     "name": "stdout",
     "output_type": "stream",
     "text": [
      "The average silhouette_score is : 0.27737480105861756  for number of clusters: 13\n"
     ]
    },
    {
     "name": "stderr",
     "output_type": "stream",
     "text": [
      "/Users/albertoalfaro/opt/anaconda3/lib/python3.9/site-packages/sklearn/cluster/_kmeans.py:870: FutureWarning: The default value of `n_init` will change from 10 to 'auto' in 1.4. Set the value of `n_init` explicitly to suppress the warning\n",
      "  warnings.warn(\n"
     ]
    },
    {
     "name": "stdout",
     "output_type": "stream",
     "text": [
      "The average silhouette_score is : 0.23952708890293084  for number of clusters: 14\n"
     ]
    }
   ],
   "source": [
    "for i in range(2,15):\n",
    "    kmeans = KMeans(n_clusters=i, random_state=0)\n",
    "    kmeans.fit(X)\n",
    "\n",
    "    spotify[\"cluster\"] = kmeans.labels_\n",
    "\n",
    "    from sklearn.metrics import silhouette_score\n",
    "\n",
    "    silhouette_avg = silhouette_score(X, kmeans.labels_)\n",
    "    print(\"The average silhouette_score is :\", silhouette_avg,\" for number of clusters:\",i)\n"
   ]
  },
  {
   "cell_type": "code",
   "execution_count": 9,
   "id": "40c968ae",
   "metadata": {},
   "outputs": [
    {
     "name": "stdout",
     "output_type": "stream",
     "text": [
      "9     815\n",
      "8     794\n",
      "11    730\n",
      "7     667\n",
      "13    657\n",
      "2     575\n",
      "0     548\n",
      "6     524\n",
      "12    462\n",
      "1     396\n",
      "3     166\n",
      "10    145\n",
      "4     142\n",
      "5     129\n",
      "Name: cluster, dtype: int64\n",
      "         danceability    energy       key   loudness      mode  speechiness  \\\n",
      "cluster                                                                       \n",
      "0            0.639861  0.610885  5.664234  -7.777173  0.613139     0.099570   \n",
      "1            0.509834  0.696743  5.636364  -7.421932  0.621212     0.100729   \n",
      "2            0.601843  0.621982  5.116522  -7.554010  0.636522     0.079310   \n",
      "3            0.311492  0.067753  5.066265 -26.333367  0.608434     0.048506   \n",
      "4            0.405634  0.097236  4.401408 -24.634317  0.584507     0.047391   \n",
      "5            0.424484  0.703356  5.325581  -7.262008  0.736434     0.105626   \n",
      "6            0.551718  0.669484  5.379771  -7.144979  0.664122     0.084816   \n",
      "7            0.545653  0.513112  5.160420  -8.886609  0.616192     0.083392   \n",
      "8            0.646106  0.700752  5.945844  -6.586321  0.598237     0.076514   \n",
      "9            0.660196  0.639394  5.244172  -7.718177  0.619632     0.071873   \n",
      "10           0.365677  0.084084  4.744828 -25.069131  0.731034     0.042385   \n",
      "11           0.647175  0.656119  5.065753  -7.514295  0.664384     0.074449   \n",
      "12           0.500748  0.687748  4.989177  -6.907045  0.653680     0.122270   \n",
      "13           0.657461  0.687012  5.135464  -6.082700  0.558600     0.098214   \n",
      "\n",
      "         acousticness  instrumentalness  liveness       tempo   valence  \\\n",
      "cluster                                                                   \n",
      "0            0.288828          0.084184  0.171728   93.672960  0.540124   \n",
      "1            0.202461          0.075522  0.202737  161.659184  0.511011   \n",
      "2            0.276764          0.060865  0.185141  137.412443  0.471403   \n",
      "3            0.929899          0.731682  0.124816   65.475307  0.162013   \n",
      "4            0.928894          0.648860  0.122177  129.383535  0.240546   \n",
      "5            0.198294          0.055249  0.176814  195.983380  0.547569   \n",
      "6            0.229580          0.069058  0.184127  147.766080  0.489552   \n",
      "7            0.402683          0.110118  0.163582   78.416504  0.438068   \n",
      "8            0.186183          0.057215  0.189324  126.839832  0.517055   \n",
      "9            0.240885          0.072794  0.181451  116.582509  0.538434   \n",
      "10           0.912890          0.706637  0.121725   96.541455  0.222215   \n",
      "11           0.249117          0.062566  0.185371  105.361474  0.536332   \n",
      "12           0.237035          0.064165  0.189734  175.111762  0.539311   \n",
      "13           0.196386          0.022949  0.191949   93.568804  0.536760   \n",
      "\n",
      "         genre_encoded  \n",
      "cluster                 \n",
      "0             3.810219  \n",
      "1             7.255051  \n",
      "2             7.224348  \n",
      "3             2.030120  \n",
      "4             2.683099  \n",
      "5             7.658915  \n",
      "6             6.824427  \n",
      "7             6.635682  \n",
      "8             7.088161  \n",
      "9             7.474847  \n",
      "10            2.151724  \n",
      "11            7.263014  \n",
      "12            8.095238  \n",
      "13           11.191781  \n"
     ]
    }
   ],
   "source": [
    "print(spotify[\"cluster\"].value_counts())\n",
    "print(spotify.groupby(\"cluster\")[audio_features].mean())\n"
   ]
  },
  {
   "cell_type": "code",
   "execution_count": 10,
   "id": "ba9dc67c",
   "metadata": {},
   "outputs": [
    {
     "data": {
      "image/png": "[encoded data removed]",
      "text/plain": [
       "<Figure size 640x480 with 1 Axes>"
      ]
     },
     "metadata": {},
     "output_type": "display_data"
    }
   ],
   "source": [
    "from sklearn.decomposition import PCA\n",
    "import matplotlib.pyplot as plt\n",
    "\n",
    "# Perform PCA to reduce dimensionality\n",
    "pca = PCA(n_components=2)\n",
    "pca.fit(X)\n",
    "X_pca = pca.transform(X)\n",
    "\n",
    "# Plot the data points colored by their assigned cluster\n",
    "plt.scatter(X_pca[:, 0], X_pca[:, 1], c=kmeans.labels_, cmap='viridis')\n",
    "plt.title('Cluster Plot')\n",
    "plt.xlabel('Principal Component 1')\n",
    "plt.ylabel('Principal Component 2')\n",
    "plt.show()\n"
   ]
  },
  {
   "cell_type": "code",
   "execution_count": null,
   "id": "213d25a6",
   "metadata": {},
   "outputs": [],
   "source": []
  }
 ],
 "metadata": {
  "kernelspec": {
   "display_name": "Python 3 (ipykernel)",
   "language": "python",
   "name": "python3"
  },
  "language_info": {
   "codemirror_mode": {
    "name": "ipython",
    "version": 3
   },
   "file_extension": ".py",
   "mimetype": "text/x-python",
   "name": "python",
   "nbconvert_exporter": "python",
   "pygments_lexer": "ipython3",
   "version": "3.9.13"
  }
 },
 "nbformat": 4,
 "nbformat_minor": 5
}
