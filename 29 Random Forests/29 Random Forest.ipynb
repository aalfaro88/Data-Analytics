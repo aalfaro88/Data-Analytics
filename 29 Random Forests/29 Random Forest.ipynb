{
 "cells": [
  {
   "cell_type": "code",
   "execution_count": 1,
   "id": "7703c534",
   "metadata": {},
   "outputs": [],
   "source": [
    "import pandas as pd\n",
    "from sklearn.preprocessing import LabelEncoder\n",
    "from imblearn.over_sampling import SMOTE\n",
    "from sklearn.model_selection import train_test_split\n",
    "from sklearn.ensemble import RandomForestClassifier"
   ]
  },
  {
   "cell_type": "markdown",
   "id": "d0972e15",
   "metadata": {},
   "source": [
    "#### Instructions\n",
    "* Apply the Random Forests algorithm but this time only by upscaling the data using SMOTE.\n",
    "* Note that since SMOTE works on numerical data only, we will first encode the categorical variables in this case."
   ]
  },
  {
   "cell_type": "code",
   "execution_count": 2,
   "id": "8acc4f52",
   "metadata": {},
   "outputs": [],
   "source": [
    "#IMPORT DATA\n",
    "numerical=pd.read_csv(\"numerical.csv\")\n",
    "categorical=pd.read_csv(\"categorical.csv\")\n",
    "target=pd.read_csv(\"target.csv\")"
   ]
  },
  {
   "cell_type": "code",
   "execution_count": 3,
   "id": "b2a3328a",
   "metadata": {},
   "outputs": [],
   "source": [
    "#APPLY LABEL ENCODER WITH LAMBDA FUNCTION\n",
    "categorical = categorical.apply(lambda x: LabelEncoder().fit_transform(x) if x.dtype == 'object' else x)"
   ]
  },
  {
   "cell_type": "code",
   "execution_count": 4,
   "id": "496cb817",
   "metadata": {},
   "outputs": [],
   "source": [
    "#DROP UNEEDED TARGET\n",
    "target=target.drop(\"TARGET_D\",axis=1)"
   ]
  },
  {
   "cell_type": "code",
   "execution_count": 5,
   "id": "153e6c45",
   "metadata": {},
   "outputs": [],
   "source": [
    "#CONCAT THREE DATAFRAMES\n",
    "data = pd.concat([numerical, categorical, target], axis=1)"
   ]
  },
  {
   "cell_type": "code",
   "execution_count": 6,
   "id": "ef5dc8ad",
   "metadata": {},
   "outputs": [],
   "source": [
    "#SMOTE\n",
    "\n",
    "X = data.drop('TARGET_B', axis=1)\n",
    "y = data['TARGET_B']\n",
    "smote = SMOTE()\n",
    "\n",
    "X_resampled, y_resampled = smote.fit_resample(X, y)\n",
    "data_smote = pd.concat([X_resampled, y_resampled], axis=1)\n"
   ]
  },
  {
   "cell_type": "code",
   "execution_count": 7,
   "id": "67d702e0",
   "metadata": {},
   "outputs": [
    {
     "name": "stdout",
     "output_type": "stream",
     "text": [
      "0    90569\n",
      "1     4843\n",
      "Name: TARGET_B, dtype: int64\n",
      "0    90569\n",
      "1    90569\n",
      "Name: TARGET_B, dtype: int64\n"
     ]
    }
   ],
   "source": [
    "print(data[\"TARGET_B\"].value_counts())\n",
    "print(data_smote[\"TARGET_B\"].value_counts())"
   ]
  },
  {
   "cell_type": "code",
   "execution_count": 8,
   "id": "a453584a",
   "metadata": {},
   "outputs": [
    {
     "name": "stdout",
     "output_type": "stream",
     "text": [
      "Accuracy: 0.9725350557579773\n"
     ]
    }
   ],
   "source": [
    "#APPLY RANDOM FORESTS\n",
    "X = data_smote.drop('TARGET_B', axis=1)\n",
    "y = data_smote['TARGET_B']\n",
    "\n",
    "X_train, X_test, y_train, y_test = train_test_split(X, y, test_size=0.2, random_state=42)\n",
    "\n",
    "rfc = RandomForestClassifier()\n",
    "rfc.fit(X_train, y_train)\n",
    "y_pred = rfc.predict(X_test)\n",
    "\n",
    "accuracy = rfc.score(X_test, y_test)\n",
    "print(\"Accuracy:\", accuracy)"
   ]
  }
 ],
 "metadata": {
  "kernelspec": {
   "display_name": "Python 3 (ipykernel)",
   "language": "python",
   "name": "python3"
  },
  "language_info": {
   "codemirror_mode": {
    "name": "ipython",
    "version": 3
   },
   "file_extension": ".py",
   "mimetype": "text/x-python",
   "name": "python",
   "nbconvert_exporter": "python",
   "pygments_lexer": "ipython3",
   "version": "3.9.13"
  }
 },
 "nbformat": 4,
 "nbformat_minor": 5
}
