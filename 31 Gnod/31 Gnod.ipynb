{
 "cells": [
  {
   "cell_type": "code",
   "execution_count": 74,
   "id": "9f333d5c",
   "metadata": {},
   "outputs": [],
   "source": [
    "from bs4 import BeautifulSoup\n",
    "import requests\n",
    "import pandas as pd\n",
    "import time"
   ]
  },
  {
   "cell_type": "markdown",
   "id": "773af0e0",
   "metadata": {},
   "source": [
    "# Lab | Web Scraping Single Page."
   ]
  },
  {
   "cell_type": "markdown",
   "id": "b30abf9e",
   "metadata": {},
   "source": [
    "## Instructions - Scraping popular songs\n",
    "* Your product will take a song as an input from the user and will output another song (the recommendation). In most cases, the recommended song will have to be similar to the inputted song, but the CTO thinks that if the song is on the top charts at the moment, the user will enjoy more a recommendation of a song that's also popular at the moment.\n",
    "\n",
    "* You have find data on the internet about currently popular songs. Billboard maintains a weekly Top 100 of \"hot\" songs here: https://www.billboard.com/charts/hot-100.\n",
    "\n",
    "* It's a good place to start! Scrape the current top 100 songs and their respective artists, and put the information into a pandas dataframe."
   ]
  },
  {
   "cell_type": "code",
   "execution_count": 2,
   "id": "ff09202e",
   "metadata": {},
   "outputs": [],
   "source": [
    "url=\"https://www.billboard.com/charts/hot-100/\" #connect to website"
   ]
  },
  {
   "cell_type": "code",
   "execution_count": 3,
   "id": "460736e2",
   "metadata": {},
   "outputs": [
    {
     "data": {
      "text/plain": [
       "200"
      ]
     },
     "execution_count": 3,
     "metadata": {},
     "output_type": "execute_result"
    }
   ],
   "source": [
    "#check status\n",
    "response=requests.get(url)\n",
    "response.status_code"
   ]
  },
  {
   "cell_type": "code",
   "execution_count": 4,
   "id": "9ee3e9d3",
   "metadata": {},
   "outputs": [],
   "source": [
    "soup=BeautifulSoup(response.content, 'html.parser') #get content in html"
   ]
  },
  {
   "cell_type": "code",
   "execution_count": 5,
   "id": "2f4f0848",
   "metadata": {},
   "outputs": [],
   "source": [
    "#scrap for songs (h3 heads) starting with...\n",
    "song_titles=soup.select('h3[class^=\"c-title a-no-trucate a-font-primary\"]') "
   ]
  },
  {
   "cell_type": "code",
   "execution_count": 6,
   "id": "7eb53eb5",
   "metadata": {},
   "outputs": [],
   "source": [
    "#define lists:\n",
    "\n",
    "songs=[]\n",
    "artist=[]"
   ]
  },
  {
   "cell_type": "code",
   "execution_count": 7,
   "id": "780de808",
   "metadata": {},
   "outputs": [],
   "source": [
    "for i in range(len(song_titles)):\n",
    "    single_song = song_titles[i].text.strip()\n",
    "    songs.append(single_song)"
   ]
  },
  {
   "cell_type": "code",
   "execution_count": 8,
   "id": "e2e57f3d",
   "metadata": {},
   "outputs": [
    {
     "data": {
      "text/plain": [
       "['Last Night',\n",
       " 'Kill Bill',\n",
       " 'Flowers',\n",
       " 'Ella Baila Sola',\n",
       " 'Un x100to',\n",
       " 'Calm Down',\n",
       " \"Creepin'\",\n",
       " 'Die For You',\n",
       " \"Boy's A Liar, Pt. 2\",\n",
       " 'Anti-Hero',\n",
       " 'La Bebe',\n",
       " 'Search & Rescue',\n",
       " 'Favorite Song',\n",
       " 'Fast Car',\n",
       " 'Sure Thing',\n",
       " 'Players',\n",
       " 'Rock And A Hard Place',\n",
       " 'Double Fantasy',\n",
       " 'You Proof',\n",
       " 'As It Was',\n",
       " 'Chemical',\n",
       " 'One Thing At A Time',\n",
       " \"Thinkin' Bout Me\",\n",
       " 'Thought You Should Know',\n",
       " \"I'm Good (Blue)\",\n",
       " 'Something In The Orange',\n",
       " 'Thank God',\n",
       " 'Por Las Noches',\n",
       " 'Princess Diana',\n",
       " 'Escapism',\n",
       " 'Under The Influence',\n",
       " \"Dancin' In The Country\",\n",
       " 'PRC',\n",
       " 'Slut Me Out',\n",
       " 'Lavender Haze',\n",
       " 'Handle On You',\n",
       " 'Unholy',\n",
       " 'Snooze',\n",
       " 'Just Wanna Rock',\n",
       " 'AMG',\n",
       " 'Cupid',\n",
       " 'Superhero (Heroes & Villains)',\n",
       " 'TQG',\n",
       " 'Wait In The Truck',\n",
       " 'Eyes Closed',\n",
       " 'Spin Bout U',\n",
       " 'Daylight',\n",
       " 'Rich Flex',\n",
       " 'Love You Anyway',\n",
       " 'Bebe Dame',\n",
       " 'Wild As Her',\n",
       " 'See You Again',\n",
       " 'Tennessee Orange',\n",
       " 'Next Thing You Know',\n",
       " 'Alone',\n",
       " 'Chanel',\n",
       " 'El Azul',\n",
       " 'Haegeum',\n",
       " 'Low Down',\n",
       " 'Need A Favor',\n",
       " 'Bloody Mary',\n",
       " 'Peaches',\n",
       " 'Nonsense',\n",
       " \"Ain't That Some\",\n",
       " 'Fight The Feeling',\n",
       " 'Red Ruby Da Sleeze',\n",
       " 'Beso',\n",
       " 'Ch y La Pizza',\n",
       " 'Cowgirls',\n",
       " 'I Wrote The Book',\n",
       " 'El Gordo Trae El Mando',\n",
       " 'Gold',\n",
       " 'Man Made A Bar',\n",
       " 'Everything I Love',\n",
       " 'Karma',\n",
       " 'ICU',\n",
       " 'Que Vuelvas',\n",
       " 'Trance',\n",
       " 'Yandel 150',\n",
       " 'Igualito A Mi Apa',\n",
       " 'In Ha Mood',\n",
       " 'Fragil',\n",
       " 'Human',\n",
       " 'Painting Pictures',\n",
       " 'Never Felt So Alone',\n",
       " 'Dawns',\n",
       " 'Ceilings',\n",
       " 'Memory Lane',\n",
       " 'Di Que Si',\n",
       " 'Strike (Holster)',\n",
       " 'Happy',\n",
       " 'Forever',\n",
       " 'Moonlight',\n",
       " 'Sunrise',\n",
       " \"You Didn't\",\n",
       " 'It Matters To Her',\n",
       " 'Like Crazy',\n",
       " 'All Of The Girls You Loved Before',\n",
       " '5 Leaf Clover',\n",
       " 'Big Truck']"
      ]
     },
     "execution_count": 8,
     "metadata": {},
     "output_type": "execute_result"
    }
   ],
   "source": [
    "songs"
   ]
  },
  {
   "cell_type": "code",
   "execution_count": 9,
   "id": "46c1e1bd",
   "metadata": {},
   "outputs": [],
   "source": [
    "#scrap for songs (span) starting with...\n",
    "artists=soup.select('span[class^=\"c-label a-no-trucate\"]')"
   ]
  },
  {
   "cell_type": "code",
   "execution_count": 10,
   "id": "db47b009",
   "metadata": {},
   "outputs": [],
   "source": [
    "for i in range(len(artists)):\n",
    "    single_artist = artists[i].text.strip()\n",
    "    artist.append(single_artist)"
   ]
  },
  {
   "cell_type": "code",
   "execution_count": 11,
   "id": "db0c48e0",
   "metadata": {},
   "outputs": [
    {
     "data": {
      "text/plain": [
       "['Morgan Wallen',\n",
       " 'SZA',\n",
       " 'Miley Cyrus',\n",
       " 'Eslabon Armado X Peso Pluma',\n",
       " 'Grupo Frontera X Bad Bunny',\n",
       " 'Rema & Selena Gomez',\n",
       " 'Metro Boomin, The Weeknd & 21 Savage',\n",
       " 'The Weeknd & Ariana Grande',\n",
       " 'PinkPantheress & Ice Spice',\n",
       " 'Taylor Swift',\n",
       " 'Yng Lvcas x Peso Pluma',\n",
       " 'Drake',\n",
       " 'Toosii',\n",
       " 'Luke Combs',\n",
       " 'Miguel',\n",
       " 'Coi Leray',\n",
       " 'Bailey Zimmerman',\n",
       " 'The Weeknd Featuring Future',\n",
       " 'Morgan Wallen',\n",
       " 'Harry Styles',\n",
       " 'Post Malone',\n",
       " 'Morgan Wallen',\n",
       " 'Morgan Wallen',\n",
       " 'Morgan Wallen',\n",
       " 'David Guetta & Bebe Rexha',\n",
       " 'Zach Bryan',\n",
       " 'Kane Brown With Katelyn Brown',\n",
       " 'Peso Pluma',\n",
       " 'Ice Spice & Nicki Minaj',\n",
       " 'RAYE Featuring 070 Shake',\n",
       " 'Chris Brown',\n",
       " 'Tyler Hubbard',\n",
       " 'Peso Pluma X Natanael Cano',\n",
       " 'NLE Choppa',\n",
       " 'Taylor Swift',\n",
       " 'Parker McCollum',\n",
       " 'Sam Smith & Kim Petras',\n",
       " 'SZA',\n",
       " 'Lil Uzi Vert',\n",
       " 'Gabito Ballesteros, Peso Pluma & Natanael Cano',\n",
       " 'Fifty Fifty',\n",
       " 'Metro Boomin, Future & Chris Brown',\n",
       " 'Karol G x Shakira',\n",
       " 'HARDY Featuring Lainey Wilson',\n",
       " 'Ed Sheeran',\n",
       " 'Drake & 21 Savage',\n",
       " 'David Kushner',\n",
       " 'Drake & 21 Savage',\n",
       " 'Luke Combs',\n",
       " 'Fuerza Regida X Grupo Frontera',\n",
       " 'Corey Kent',\n",
       " 'Tyler, The Creator Featuring Kali Uchis',\n",
       " 'Megan Moroney',\n",
       " 'Jordan Davis',\n",
       " 'Kim Petras Featuring Nicki Minaj',\n",
       " 'Becky G & Peso Pluma',\n",
       " 'Junior H x Peso Pluma',\n",
       " 'Agust D',\n",
       " 'Lil Baby',\n",
       " 'Jelly Roll',\n",
       " 'Lady Gaga',\n",
       " 'Jack Black',\n",
       " 'Sabrina Carpenter',\n",
       " 'Morgan Wallen',\n",
       " 'Rod Wave',\n",
       " 'Nicki Minaj',\n",
       " 'Rosalia & Rauw Alejandro',\n",
       " 'Fuerza Regida X Natanael Cano',\n",
       " 'Morgan Wallen Featuring ERNEST',\n",
       " 'Morgan Wallen',\n",
       " 'Chino Pacas',\n",
       " 'Dierks Bentley',\n",
       " 'Morgan Wallen Featuring Eric Church',\n",
       " 'Morgan Wallen',\n",
       " 'Taylor Swift',\n",
       " 'Coco Jones',\n",
       " 'Carin Leon X Grupo Frontera',\n",
       " 'Metro Boomin, Travis Scott & Young Thug',\n",
       " 'Yandel & Feid',\n",
       " 'Fuerza Regida & Peso Pluma',\n",
       " 'Ice Spice',\n",
       " 'Yahritza y Su Esencia x Grupo Frontera',\n",
       " 'Cody Johnson',\n",
       " 'Superstar Pride',\n",
       " 'Labrinth',\n",
       " 'Zach Bryan Featuring Maggie Rogers',\n",
       " 'Lizzy McAlpine',\n",
       " 'Old Dominion',\n",
       " 'Grupo Marca Registrada X Grupo Frontera',\n",
       " 'Lil Yachty',\n",
       " 'NF',\n",
       " 'Lil Baby Featuring Fridayy',\n",
       " 'Kali Uchis',\n",
       " 'Morgan Wallen',\n",
       " 'Brett Young',\n",
       " 'Scotty McCreery',\n",
       " 'Jimin',\n",
       " 'Taylor Swift',\n",
       " 'Luke Combs',\n",
       " 'YoungBoy Never Broke Again']"
      ]
     },
     "execution_count": 11,
     "metadata": {},
     "output_type": "execute_result"
    }
   ],
   "source": [
    "artist"
   ]
  },
  {
   "cell_type": "code",
   "execution_count": 12,
   "id": "7b0b91e8",
   "metadata": {},
   "outputs": [],
   "source": [
    "data=pd.DataFrame({\"Artist\":artist,\"Song\":songs})"
   ]
  },
  {
   "cell_type": "code",
   "execution_count": 13,
   "id": "60983656",
   "metadata": {},
   "outputs": [
    {
     "data": {
      "text/html": [
       "<div>\n",
       "<style scoped>\n",
       "    .dataframe tbody tr th:only-of-type {\n",
       "        vertical-align: middle;\n",
       "    }\n",
       "\n",
       "    .dataframe tbody tr th {\n",
       "        vertical-align: top;\n",
       "    }\n",
       "\n",
       "    .dataframe thead th {\n",
       "        text-align: right;\n",
       "    }\n",
       "</style>\n",
       "<table border=\"1\" class=\"dataframe\">\n",
       "  <thead>\n",
       "    <tr style=\"text-align: right;\">\n",
       "      <th></th>\n",
       "      <th>Artist</th>\n",
       "      <th>Song</th>\n",
       "    </tr>\n",
       "  </thead>\n",
       "  <tbody>\n",
       "    <tr>\n",
       "      <th>0</th>\n",
       "      <td>Morgan Wallen</td>\n",
       "      <td>Last Night</td>\n",
       "    </tr>\n",
       "    <tr>\n",
       "      <th>1</th>\n",
       "      <td>SZA</td>\n",
       "      <td>Kill Bill</td>\n",
       "    </tr>\n",
       "    <tr>\n",
       "      <th>2</th>\n",
       "      <td>Miley Cyrus</td>\n",
       "      <td>Flowers</td>\n",
       "    </tr>\n",
       "    <tr>\n",
       "      <th>3</th>\n",
       "      <td>Eslabon Armado X Peso Pluma</td>\n",
       "      <td>Ella Baila Sola</td>\n",
       "    </tr>\n",
       "    <tr>\n",
       "      <th>4</th>\n",
       "      <td>Grupo Frontera X Bad Bunny</td>\n",
       "      <td>Un x100to</td>\n",
       "    </tr>\n",
       "    <tr>\n",
       "      <th>...</th>\n",
       "      <td>...</td>\n",
       "      <td>...</td>\n",
       "    </tr>\n",
       "    <tr>\n",
       "      <th>95</th>\n",
       "      <td>Scotty McCreery</td>\n",
       "      <td>It Matters To Her</td>\n",
       "    </tr>\n",
       "    <tr>\n",
       "      <th>96</th>\n",
       "      <td>Jimin</td>\n",
       "      <td>Like Crazy</td>\n",
       "    </tr>\n",
       "    <tr>\n",
       "      <th>97</th>\n",
       "      <td>Taylor Swift</td>\n",
       "      <td>All Of The Girls You Loved Before</td>\n",
       "    </tr>\n",
       "    <tr>\n",
       "      <th>98</th>\n",
       "      <td>Luke Combs</td>\n",
       "      <td>5 Leaf Clover</td>\n",
       "    </tr>\n",
       "    <tr>\n",
       "      <th>99</th>\n",
       "      <td>YoungBoy Never Broke Again</td>\n",
       "      <td>Big Truck</td>\n",
       "    </tr>\n",
       "  </tbody>\n",
       "</table>\n",
       "<p>100 rows × 2 columns</p>\n",
       "</div>"
      ],
      "text/plain": [
       "                         Artist                               Song\n",
       "0                 Morgan Wallen                         Last Night\n",
       "1                           SZA                          Kill Bill\n",
       "2                   Miley Cyrus                            Flowers\n",
       "3   Eslabon Armado X Peso Pluma                    Ella Baila Sola\n",
       "4    Grupo Frontera X Bad Bunny                          Un x100to\n",
       "..                          ...                                ...\n",
       "95              Scotty McCreery                  It Matters To Her\n",
       "96                        Jimin                         Like Crazy\n",
       "97                 Taylor Swift  All Of The Girls You Loved Before\n",
       "98                   Luke Combs                      5 Leaf Clover\n",
       "99   YoungBoy Never Broke Again                          Big Truck\n",
       "\n",
       "[100 rows x 2 columns]"
      ]
     },
     "execution_count": 13,
     "metadata": {},
     "output_type": "execute_result"
    }
   ],
   "source": [
    "data"
   ]
  },
  {
   "cell_type": "markdown",
   "id": "042be176",
   "metadata": {},
   "source": [
    "# Lab | Web Scraping Multiple Pages"
   ]
  },
  {
   "cell_type": "code",
   "execution_count": 51,
   "id": "8beddaf5",
   "metadata": {},
   "outputs": [],
   "source": [
    "url=\"https://www.listchallenges.com/the-top-1000-billboard-hot-100-songs-of-all-time\" #connect to website"
   ]
  },
  {
   "cell_type": "code",
   "execution_count": 52,
   "id": "c832aa73",
   "metadata": {},
   "outputs": [
    {
     "data": {
      "text/plain": [
       "200"
      ]
     },
     "execution_count": 52,
     "metadata": {},
     "output_type": "execute_result"
    }
   ],
   "source": [
    "#check status\n",
    "response=requests.get(url)\n",
    "response.status_code"
   ]
  },
  {
   "cell_type": "code",
   "execution_count": 53,
   "id": "adb9729f",
   "metadata": {},
   "outputs": [],
   "source": [
    "soup=BeautifulSoup(response.content, 'html.parser') #get content in html"
   ]
  },
  {
   "cell_type": "code",
   "execution_count": 54,
   "id": "1a25340d",
   "metadata": {},
   "outputs": [
    {
     "data": {
      "text/plain": [
       "'The Twist - Chubby Checker'"
      ]
     },
     "execution_count": 54,
     "metadata": {},
     "output_type": "execute_result"
    }
   ],
   "source": [
    "soup.select('div[class=\"item-name\"]')[0].text.strip()"
   ]
  },
  {
   "cell_type": "code",
   "execution_count": 55,
   "id": "52b5463e",
   "metadata": {},
   "outputs": [],
   "source": [
    "list = soup.select('div[class=\"item-name\"]')"
   ]
  },
  {
   "cell_type": "code",
   "execution_count": 56,
   "id": "def8c6b4",
   "metadata": {},
   "outputs": [
    {
     "data": {
      "text/plain": [
       "40"
      ]
     },
     "execution_count": 56,
     "metadata": {},
     "output_type": "execute_result"
    }
   ],
   "source": [
    "len(list)"
   ]
  },
  {
   "cell_type": "code",
   "execution_count": 57,
   "id": "a7a38f4b",
   "metadata": {},
   "outputs": [],
   "source": [
    "pages = []"
   ]
  },
  {
   "cell_type": "code",
   "execution_count": 50,
   "id": "42a6a89d",
   "metadata": {},
   "outputs": [
    {
     "data": {
      "text/plain": [
       "'https://www.listchallenges.com/the-top-1000-billboard-hot-100-songs-of-all-time'"
      ]
     },
     "execution_count": 50,
     "metadata": {},
     "output_type": "execute_result"
    }
   ],
   "source": [
    "url"
   ]
  },
  {
   "cell_type": "code",
   "execution_count": 63,
   "id": "dd74f438",
   "metadata": {},
   "outputs": [
    {
     "name": "stdout",
     "output_type": "stream",
     "text": [
      "https://www.listchallenges.com/the-top-1000-billboard-hot-100-songs-of-all-time\n",
      "https://www.listchallenges.com/the-top-1000-billboard-hot-100-songs-of-all-time/list/2\n",
      "https://www.listchallenges.com/the-top-1000-billboard-hot-100-songs-of-all-time/list/3\n",
      "https://www.listchallenges.com/the-top-1000-billboard-hot-100-songs-of-all-time/list/4\n",
      "https://www.listchallenges.com/the-top-1000-billboard-hot-100-songs-of-all-time/list/5\n",
      "https://www.listchallenges.com/the-top-1000-billboard-hot-100-songs-of-all-time/list/6\n",
      "https://www.listchallenges.com/the-top-1000-billboard-hot-100-songs-of-all-time/list/7\n",
      "https://www.listchallenges.com/the-top-1000-billboard-hot-100-songs-of-all-time/list/8\n",
      "https://www.listchallenges.com/the-top-1000-billboard-hot-100-songs-of-all-time/list/9\n",
      "https://www.listchallenges.com/the-top-1000-billboard-hot-100-songs-of-all-time/list/10\n",
      "https://www.listchallenges.com/the-top-1000-billboard-hot-100-songs-of-all-time/list/11\n",
      "https://www.listchallenges.com/the-top-1000-billboard-hot-100-songs-of-all-time/list/12\n",
      "https://www.listchallenges.com/the-top-1000-billboard-hot-100-songs-of-all-time/list/13\n",
      "https://www.listchallenges.com/the-top-1000-billboard-hot-100-songs-of-all-time/list/14\n",
      "https://www.listchallenges.com/the-top-1000-billboard-hot-100-songs-of-all-time/list/15\n",
      "https://www.listchallenges.com/the-top-1000-billboard-hot-100-songs-of-all-time/list/16\n",
      "https://www.listchallenges.com/the-top-1000-billboard-hot-100-songs-of-all-time/list/17\n",
      "https://www.listchallenges.com/the-top-1000-billboard-hot-100-songs-of-all-time/list/18\n",
      "https://www.listchallenges.com/the-top-1000-billboard-hot-100-songs-of-all-time/list/19\n",
      "https://www.listchallenges.com/the-top-1000-billboard-hot-100-songs-of-all-time/list/20\n",
      "https://www.listchallenges.com/the-top-1000-billboard-hot-100-songs-of-all-time/list/21\n",
      "https://www.listchallenges.com/the-top-1000-billboard-hot-100-songs-of-all-time/list/22\n",
      "https://www.listchallenges.com/the-top-1000-billboard-hot-100-songs-of-all-time/list/23\n",
      "https://www.listchallenges.com/the-top-1000-billboard-hot-100-songs-of-all-time/list/24\n",
      "https://www.listchallenges.com/the-top-1000-billboard-hot-100-songs-of-all-time/list/25\n"
     ]
    }
   ],
   "source": [
    "for i in range(1,26):\n",
    "    if i == 1:\n",
    "        page = url\n",
    "        pages.append(page)\n",
    "        print(page)\n",
    "    else:\n",
    "        page = url+\"/list/\"+str(i)\n",
    "        pages.append(page)\n",
    "        print(page)\n"
   ]
  },
  {
   "cell_type": "code",
   "execution_count": 69,
   "id": "ac5a7cfb",
   "metadata": {},
   "outputs": [],
   "source": [
    "top_1000=[]"
   ]
  },
  {
   "cell_type": "code",
   "execution_count": 76,
   "id": "e8f60f83",
   "metadata": {},
   "outputs": [],
   "source": [
    "for num in pages:\n",
    "    time.sleep(3)\n",
    "    url = num\n",
    "    response=requests.get(url)\n",
    "    response.status_code\n",
    "    songs=soup.select('div[class=\"item-name\"]')\n",
    "    for i in range(len(songs)):\n",
    "        soup=BeautifulSoup(response.content, 'html.parser')\n",
    "        song=soup.select('div[class=\"item-name\"]')[i].text.strip()\n",
    "        top_1000.append(song)   "
   ]
  },
  {
   "cell_type": "code",
   "execution_count": 82,
   "id": "f139ddd9",
   "metadata": {},
   "outputs": [],
   "source": [
    "rank=[]\n",
    "for i in range(1,1001):\n",
    "    rank.append(i)"
   ]
  },
  {
   "cell_type": "code",
   "execution_count": 83,
   "id": "736a2cdc",
   "metadata": {},
   "outputs": [
    {
     "data": {
      "text/html": [
       "<div>\n",
       "<style scoped>\n",
       "    .dataframe tbody tr th:only-of-type {\n",
       "        vertical-align: middle;\n",
       "    }\n",
       "\n",
       "    .dataframe tbody tr th {\n",
       "        vertical-align: top;\n",
       "    }\n",
       "\n",
       "    .dataframe thead th {\n",
       "        text-align: right;\n",
       "    }\n",
       "</style>\n",
       "<table border=\"1\" class=\"dataframe\">\n",
       "  <thead>\n",
       "    <tr style=\"text-align: right;\">\n",
       "      <th></th>\n",
       "      <th>Rank</th>\n",
       "      <th>Artist / Song</th>\n",
       "    </tr>\n",
       "  </thead>\n",
       "  <tbody>\n",
       "    <tr>\n",
       "      <th>0</th>\n",
       "      <td>1</td>\n",
       "      <td>The Twist - Chubby Checker</td>\n",
       "    </tr>\n",
       "    <tr>\n",
       "      <th>1</th>\n",
       "      <td>2</td>\n",
       "      <td>Smooth - Santana</td>\n",
       "    </tr>\n",
       "    <tr>\n",
       "      <th>2</th>\n",
       "      <td>3</td>\n",
       "      <td>MacK the Knife - Bobby Darin</td>\n",
       "    </tr>\n",
       "    <tr>\n",
       "      <th>3</th>\n",
       "      <td>4</td>\n",
       "      <td>Mark Ronson, \"Uptown Funk\" (Feat. Bruno Mars)</td>\n",
       "    </tr>\n",
       "    <tr>\n",
       "      <th>4</th>\n",
       "      <td>5</td>\n",
       "      <td>Leann Rimes - How Do I Live</td>\n",
       "    </tr>\n",
       "    <tr>\n",
       "      <th>...</th>\n",
       "      <td>...</td>\n",
       "      <td>...</td>\n",
       "    </tr>\n",
       "    <tr>\n",
       "      <th>995</th>\n",
       "      <td>996</td>\n",
       "      <td>Lights - Ellie Goulding</td>\n",
       "    </tr>\n",
       "    <tr>\n",
       "      <th>996</th>\n",
       "      <td>997</td>\n",
       "      <td>Is This Love - Whitesnake</td>\n",
       "    </tr>\n",
       "    <tr>\n",
       "      <th>997</th>\n",
       "      <td>998</td>\n",
       "      <td>Caribbean Queen (No More Love on the Run) - Bi...</td>\n",
       "    </tr>\n",
       "    <tr>\n",
       "      <th>998</th>\n",
       "      <td>999</td>\n",
       "      <td>High Hopes - Panic! at the Disco</td>\n",
       "    </tr>\n",
       "    <tr>\n",
       "      <th>999</th>\n",
       "      <td>1000</td>\n",
       "      <td>Love Theme From Romeo &amp; Juliet - Henry Mancini</td>\n",
       "    </tr>\n",
       "  </tbody>\n",
       "</table>\n",
       "<p>1000 rows × 2 columns</p>\n",
       "</div>"
      ],
      "text/plain": [
       "     Rank                                      Artist / Song\n",
       "0       1                         The Twist - Chubby Checker\n",
       "1       2                                   Smooth - Santana\n",
       "2       3                       MacK the Knife - Bobby Darin\n",
       "3       4      Mark Ronson, \"Uptown Funk\" (Feat. Bruno Mars)\n",
       "4       5                        Leann Rimes - How Do I Live\n",
       "..    ...                                                ...\n",
       "995   996                            Lights - Ellie Goulding\n",
       "996   997                          Is This Love - Whitesnake\n",
       "997   998  Caribbean Queen (No More Love on the Run) - Bi...\n",
       "998   999                   High Hopes - Panic! at the Disco\n",
       "999  1000     Love Theme From Romeo & Juliet - Henry Mancini\n",
       "\n",
       "[1000 rows x 2 columns]"
      ]
     },
     "execution_count": 83,
     "metadata": {},
     "output_type": "execute_result"
    }
   ],
   "source": [
    "top_1000_songs = pd.DataFrame({\"Rank\": rank, \"Artist / Song\": top_1000})\n",
    "top_1000_songs"
   ]
  },
  {
   "cell_type": "code",
   "execution_count": null,
   "id": "8dd25cbc",
   "metadata": {},
   "outputs": [],
   "source": []
  }
 ],
 "metadata": {
  "kernelspec": {
   "display_name": "Python 3 (ipykernel)",
   "language": "python",
   "name": "python3"
  },
  "language_info": {
   "codemirror_mode": {
    "name": "ipython",
    "version": 3
   },
   "file_extension": ".py",
   "mimetype": "text/x-python",
   "name": "python",
   "nbconvert_exporter": "python",
   "pygments_lexer": "ipython3",
   "version": "3.9.13"
  }
 },
 "nbformat": 4,
 "nbformat_minor": 5
}
