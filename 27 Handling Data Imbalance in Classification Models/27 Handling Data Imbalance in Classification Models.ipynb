{
 "cells": [
  {
   "cell_type": "code",
   "execution_count": 1,
   "id": "f867fd4f",
   "metadata": {},
   "outputs": [],
   "source": [
    "import pandas as pd\n",
    "import numpy as np\n",
    "import datetime\n",
    "import warnings\n",
    "warnings.filterwarnings(\"ignore\")\n",
    "\n",
    "import matplotlib.pyplot as plt\n",
    "import seaborn as sns\n",
    "from sklearn.preprocessing import StandardScaler\n",
    "from sklearn.preprocessing import OneHotEncoder\n",
    "from sklearn.model_selection import train_test_split\n",
    "import pandas as pd\n",
    "import numpy as np\n",
    "from sklearn.neighbors import KNeighborsRegressor\n",
    "from sklearn.linear_model import LinearRegression\n",
    "\n",
    "\"\"\"Accuracy measures Logistic, not R2 as in the other models.\"\"\"\n",
    "from sklearn.linear_model import LogisticRegression\n",
    "from sklearn.metrics import accuracy_score\n",
    "\"\"\"__________________\"\"\"\n",
    "\n",
    "from sklearn.preprocessing import LabelEncoder\n",
    "import matplotlib.pyplot as plt\n",
    "import seaborn as sns\n",
    "from sklearn.preprocessing import OrdinalEncoder\n",
    "from scipy.sparse import csr_matrix\n",
    "from sklearn.preprocessing import StandardScaler\n",
    "import datetime\n",
    "from sklearn.preprocessing import StandardScaler\n",
    "from scipy.stats import boxcox\n",
    "import numpy as np\n",
    "\n",
    "pd.set_option('display.max_columns', None)\n",
    "\n",
    "import os\n",
    "\n",
    "from statsmodels.formula.api import ols\n",
    "import statsmodels.api as sm\n",
    "\n",
    "import statsmodels.formula.api as smf\n",
    "from statsmodels.stats.anova import anova_lm"
   ]
  },
  {
   "cell_type": "markdown",
   "id": "86d16509",
   "metadata": {},
   "source": [
    "### Instructions\n",
    "#### In this lab, we will first take a look at the degree of imbalance in the data and correct it using the techniques we learned on the class.\n",
    "\n",
    "##### Here is the list of steps to be followed (building a simple model without balancing the data):\n",
    "\n",
    "* Import the required libraries and modules that you would need.\n",
    "* Read that data into Python and call the dataframe churnData.\n",
    "* Check the datatypes of all the columns in the data. You would see that the column TotalCharges is object type. * * * * Convert this column into numeric type using pd.to_numeric function.\n",
    "* Check for null values in the dataframe. Replace the null values.\n",
    "* Use the following features: tenure, SeniorCitizen, MonthlyCharges and TotalCharges:\n",
    "* Scale the features either by using normalizer or a standard scaler.\n",
    "* Split the data into a training set and a test set.\n",
    "* Fit a logistic regression model on the training data.\n",
    "* Check the accuracy on the test data.\n",
    "Note: So far we have not balanced the data.\n",
    "\n",
    "##### Managing imbalance in the dataset\n",
    "\n",
    "* Check for the imbalance.\n",
    "* Use the resampling strategies used in class for upsampling and downsampling to create a balance between the two classes.\n",
    "* Each time fit the model and see how the accuracy of the model is."
   ]
  },
  {
   "cell_type": "code",
   "execution_count": 2,
   "id": "f1617158",
   "metadata": {},
   "outputs": [
    {
     "data": {
      "text/html": [
       "<div>\n",
       "<style scoped>\n",
       "    .dataframe tbody tr th:only-of-type {\n",
       "        vertical-align: middle;\n",
       "    }\n",
       "\n",
       "    .dataframe tbody tr th {\n",
       "        vertical-align: top;\n",
       "    }\n",
       "\n",
       "    .dataframe thead th {\n",
       "        text-align: right;\n",
       "    }\n",
       "</style>\n",
       "<table border=\"1\" class=\"dataframe\">\n",
       "  <thead>\n",
       "    <tr style=\"text-align: right;\">\n",
       "      <th></th>\n",
       "      <th>gender</th>\n",
       "      <th>SeniorCitizen</th>\n",
       "      <th>Partner</th>\n",
       "      <th>Dependents</th>\n",
       "      <th>tenure</th>\n",
       "      <th>PhoneService</th>\n",
       "      <th>OnlineSecurity</th>\n",
       "      <th>OnlineBackup</th>\n",
       "      <th>DeviceProtection</th>\n",
       "      <th>TechSupport</th>\n",
       "      <th>StreamingTV</th>\n",
       "      <th>StreamingMovies</th>\n",
       "      <th>Contract</th>\n",
       "      <th>MonthlyCharges</th>\n",
       "      <th>TotalCharges</th>\n",
       "      <th>Churn</th>\n",
       "    </tr>\n",
       "  </thead>\n",
       "  <tbody>\n",
       "    <tr>\n",
       "      <th>0</th>\n",
       "      <td>Female</td>\n",
       "      <td>0</td>\n",
       "      <td>Yes</td>\n",
       "      <td>No</td>\n",
       "      <td>1</td>\n",
       "      <td>No</td>\n",
       "      <td>No</td>\n",
       "      <td>Yes</td>\n",
       "      <td>No</td>\n",
       "      <td>No</td>\n",
       "      <td>No</td>\n",
       "      <td>No</td>\n",
       "      <td>Month-to-month</td>\n",
       "      <td>29.85</td>\n",
       "      <td>29.85</td>\n",
       "      <td>No</td>\n",
       "    </tr>\n",
       "    <tr>\n",
       "      <th>1</th>\n",
       "      <td>Male</td>\n",
       "      <td>0</td>\n",
       "      <td>No</td>\n",
       "      <td>No</td>\n",
       "      <td>34</td>\n",
       "      <td>Yes</td>\n",
       "      <td>Yes</td>\n",
       "      <td>No</td>\n",
       "      <td>Yes</td>\n",
       "      <td>No</td>\n",
       "      <td>No</td>\n",
       "      <td>No</td>\n",
       "      <td>One year</td>\n",
       "      <td>56.95</td>\n",
       "      <td>1889.5</td>\n",
       "      <td>No</td>\n",
       "    </tr>\n",
       "    <tr>\n",
       "      <th>2</th>\n",
       "      <td>Male</td>\n",
       "      <td>0</td>\n",
       "      <td>No</td>\n",
       "      <td>No</td>\n",
       "      <td>2</td>\n",
       "      <td>Yes</td>\n",
       "      <td>Yes</td>\n",
       "      <td>Yes</td>\n",
       "      <td>No</td>\n",
       "      <td>No</td>\n",
       "      <td>No</td>\n",
       "      <td>No</td>\n",
       "      <td>Month-to-month</td>\n",
       "      <td>53.85</td>\n",
       "      <td>108.15</td>\n",
       "      <td>Yes</td>\n",
       "    </tr>\n",
       "    <tr>\n",
       "      <th>3</th>\n",
       "      <td>Male</td>\n",
       "      <td>0</td>\n",
       "      <td>No</td>\n",
       "      <td>No</td>\n",
       "      <td>45</td>\n",
       "      <td>No</td>\n",
       "      <td>Yes</td>\n",
       "      <td>No</td>\n",
       "      <td>Yes</td>\n",
       "      <td>Yes</td>\n",
       "      <td>No</td>\n",
       "      <td>No</td>\n",
       "      <td>One year</td>\n",
       "      <td>42.30</td>\n",
       "      <td>1840.75</td>\n",
       "      <td>No</td>\n",
       "    </tr>\n",
       "    <tr>\n",
       "      <th>4</th>\n",
       "      <td>Female</td>\n",
       "      <td>0</td>\n",
       "      <td>No</td>\n",
       "      <td>No</td>\n",
       "      <td>2</td>\n",
       "      <td>Yes</td>\n",
       "      <td>No</td>\n",
       "      <td>No</td>\n",
       "      <td>No</td>\n",
       "      <td>No</td>\n",
       "      <td>No</td>\n",
       "      <td>No</td>\n",
       "      <td>Month-to-month</td>\n",
       "      <td>70.70</td>\n",
       "      <td>151.65</td>\n",
       "      <td>Yes</td>\n",
       "    </tr>\n",
       "  </tbody>\n",
       "</table>\n",
       "</div>"
      ],
      "text/plain": [
       "   gender  SeniorCitizen Partner Dependents  tenure PhoneService  \\\n",
       "0  Female              0     Yes         No       1           No   \n",
       "1    Male              0      No         No      34          Yes   \n",
       "2    Male              0      No         No       2          Yes   \n",
       "3    Male              0      No         No      45           No   \n",
       "4  Female              0      No         No       2          Yes   \n",
       "\n",
       "  OnlineSecurity OnlineBackup DeviceProtection TechSupport StreamingTV  \\\n",
       "0             No          Yes               No          No          No   \n",
       "1            Yes           No              Yes          No          No   \n",
       "2            Yes          Yes               No          No          No   \n",
       "3            Yes           No              Yes         Yes          No   \n",
       "4             No           No               No          No          No   \n",
       "\n",
       "  StreamingMovies        Contract  MonthlyCharges TotalCharges Churn  \n",
       "0              No  Month-to-month           29.85        29.85    No  \n",
       "1              No        One year           56.95       1889.5    No  \n",
       "2              No  Month-to-month           53.85       108.15   Yes  \n",
       "3              No        One year           42.30      1840.75    No  \n",
       "4              No  Month-to-month           70.70       151.65   Yes  "
      ]
     },
     "execution_count": 2,
     "metadata": {},
     "output_type": "execute_result"
    }
   ],
   "source": [
    "#IMPORT\n",
    "\n",
    "churnData = pd.read_csv(\"Customer-Churn.csv\")\n",
    "churnData.head()"
   ]
  },
  {
   "cell_type": "code",
   "execution_count": 3,
   "id": "74badbe6",
   "metadata": {},
   "outputs": [
    {
     "data": {
      "text/plain": [
       "gender               object\n",
       "SeniorCitizen         int64\n",
       "Partner              object\n",
       "Dependents           object\n",
       "tenure                int64\n",
       "PhoneService         object\n",
       "OnlineSecurity       object\n",
       "OnlineBackup         object\n",
       "DeviceProtection     object\n",
       "TechSupport          object\n",
       "StreamingTV          object\n",
       "StreamingMovies      object\n",
       "Contract             object\n",
       "MonthlyCharges      float64\n",
       "TotalCharges         object\n",
       "Churn                object\n",
       "dtype: object"
      ]
     },
     "execution_count": 3,
     "metadata": {},
     "output_type": "execute_result"
    }
   ],
   "source": [
    "#SELECT TYPES\n",
    "churnData.dtypes"
   ]
  },
  {
   "cell_type": "code",
   "execution_count": 4,
   "id": "c8fc679d",
   "metadata": {},
   "outputs": [],
   "source": [
    "#CHANGE TO NUMERIC\n",
    "churnData[\"TotalCharges\"] = pd.to_numeric(churnData[\"TotalCharges\"], errors=\"coerce\")"
   ]
  },
  {
   "cell_type": "code",
   "execution_count": 5,
   "id": "3f431cad",
   "metadata": {},
   "outputs": [
    {
     "data": {
      "text/plain": [
       "gender               0\n",
       "SeniorCitizen        0\n",
       "Partner              0\n",
       "Dependents           0\n",
       "tenure               0\n",
       "PhoneService         0\n",
       "OnlineSecurity       0\n",
       "OnlineBackup         0\n",
       "DeviceProtection     0\n",
       "TechSupport          0\n",
       "StreamingTV          0\n",
       "StreamingMovies      0\n",
       "Contract             0\n",
       "MonthlyCharges       0\n",
       "TotalCharges        11\n",
       "Churn                0\n",
       "dtype: int64"
      ]
     },
     "execution_count": 5,
     "metadata": {},
     "output_type": "execute_result"
    }
   ],
   "source": [
    "churnData.isna().sum()"
   ]
  },
  {
   "cell_type": "code",
   "execution_count": 6,
   "id": "a99c2276",
   "metadata": {},
   "outputs": [
    {
     "data": {
      "text/plain": [
       "0.001561834445548772"
      ]
     },
     "execution_count": 6,
     "metadata": {},
     "output_type": "execute_result"
    }
   ],
   "source": [
    "churnData[\"TotalCharges\"].isna().sum()/len(churnData[\"TotalCharges\"])"
   ]
  },
  {
   "cell_type": "code",
   "execution_count": 7,
   "id": "cb3f245d",
   "metadata": {},
   "outputs": [
    {
     "data": {
      "text/plain": [
       "0.0"
      ]
     },
     "execution_count": 7,
     "metadata": {},
     "output_type": "execute_result"
    }
   ],
   "source": [
    "#FILL NAs\n",
    "churnData[\"TotalCharges\"]=churnData[\"TotalCharges\"].fillna(np.mean(churnData[\"TotalCharges\"]))\n",
    "churnData[\"TotalCharges\"].isna().sum()/len(churnData[\"TotalCharges\"])"
   ]
  },
  {
   "cell_type": "code",
   "execution_count": 8,
   "id": "bbdb3138",
   "metadata": {},
   "outputs": [],
   "source": [
    "#SELECT SPECIFIC COLUMNS\n",
    "model=churnData[[\"tenure\",\"SeniorCitizen\", \"MonthlyCharges\",\"TotalCharges\"]]"
   ]
  },
  {
   "cell_type": "code",
   "execution_count": 9,
   "id": "501fc07d",
   "metadata": {},
   "outputs": [],
   "source": [
    "#SCALE DATA\n",
    "scaled_data = StandardScaler().fit_transform(model) # Scale data \n",
    "model_scaled = pd.DataFrame(scaled_data, columns=model.columns) # Apply to dataframe"
   ]
  },
  {
   "cell_type": "code",
   "execution_count": 10,
   "id": "8760a310",
   "metadata": {},
   "outputs": [
    {
     "data": {
      "text/html": [
       "<div>\n",
       "<style scoped>\n",
       "    .dataframe tbody tr th:only-of-type {\n",
       "        vertical-align: middle;\n",
       "    }\n",
       "\n",
       "    .dataframe tbody tr th {\n",
       "        vertical-align: top;\n",
       "    }\n",
       "\n",
       "    .dataframe thead th {\n",
       "        text-align: right;\n",
       "    }\n",
       "</style>\n",
       "<table border=\"1\" class=\"dataframe\">\n",
       "  <thead>\n",
       "    <tr style=\"text-align: right;\">\n",
       "      <th></th>\n",
       "      <th>tenure</th>\n",
       "      <th>SeniorCitizen</th>\n",
       "      <th>MonthlyCharges</th>\n",
       "      <th>TotalCharges</th>\n",
       "      <th>Churn</th>\n",
       "    </tr>\n",
       "  </thead>\n",
       "  <tbody>\n",
       "    <tr>\n",
       "      <th>0</th>\n",
       "      <td>-1.277445</td>\n",
       "      <td>-0.439916</td>\n",
       "      <td>-1.160323</td>\n",
       "      <td>-0.994971</td>\n",
       "      <td>0</td>\n",
       "    </tr>\n",
       "    <tr>\n",
       "      <th>1</th>\n",
       "      <td>0.066327</td>\n",
       "      <td>-0.439916</td>\n",
       "      <td>-0.259629</td>\n",
       "      <td>-0.173876</td>\n",
       "      <td>0</td>\n",
       "    </tr>\n",
       "    <tr>\n",
       "      <th>2</th>\n",
       "      <td>-1.236724</td>\n",
       "      <td>-0.439916</td>\n",
       "      <td>-0.362660</td>\n",
       "      <td>-0.960399</td>\n",
       "      <td>1</td>\n",
       "    </tr>\n",
       "    <tr>\n",
       "      <th>3</th>\n",
       "      <td>0.514251</td>\n",
       "      <td>-0.439916</td>\n",
       "      <td>-0.746535</td>\n",
       "      <td>-0.195400</td>\n",
       "      <td>0</td>\n",
       "    </tr>\n",
       "    <tr>\n",
       "      <th>4</th>\n",
       "      <td>-1.236724</td>\n",
       "      <td>-0.439916</td>\n",
       "      <td>0.197365</td>\n",
       "      <td>-0.941193</td>\n",
       "      <td>1</td>\n",
       "    </tr>\n",
       "  </tbody>\n",
       "</table>\n",
       "</div>"
      ],
      "text/plain": [
       "     tenure  SeniorCitizen  MonthlyCharges  TotalCharges  Churn\n",
       "0 -1.277445      -0.439916       -1.160323     -0.994971      0\n",
       "1  0.066327      -0.439916       -0.259629     -0.173876      0\n",
       "2 -1.236724      -0.439916       -0.362660     -0.960399      1\n",
       "3  0.514251      -0.439916       -0.746535     -0.195400      0\n",
       "4 -1.236724      -0.439916        0.197365     -0.941193      1"
      ]
     },
     "execution_count": 10,
     "metadata": {},
     "output_type": "execute_result"
    }
   ],
   "source": [
    "#CONCAT SCALED DATA WITH TARGET\n",
    "data=pd.concat([model_scaled,churnData[\"Churn\"]],axis=1)\n",
    "#APPLY LABEL ENCODER IN TARGET\n",
    "data[\"Churn\"] = LabelEncoder().fit_transform(data[\"Churn\"])\n",
    "\n",
    "data.head()"
   ]
  },
  {
   "cell_type": "code",
   "execution_count": 11,
   "id": "ef4f78be",
   "metadata": {},
   "outputs": [],
   "source": [
    "#SPLIT DATA\n",
    "\n",
    "X = data.drop(\"Churn\",axis=1)\n",
    "y = data['Churn']\n",
    "X_train, X_test, y_train, y_test = train_test_split(X, y, test_size=0.2, random_state=42)"
   ]
  },
  {
   "cell_type": "code",
   "execution_count": 12,
   "id": "9a88519b",
   "metadata": {},
   "outputs": [
    {
     "name": "stdout",
     "output_type": "stream",
     "text": [
      "0.8076650106458482\n"
     ]
    }
   ],
   "source": [
    "#APPLY LOGISTIC REGRESSION\n",
    "\n",
    "lg = LogisticRegression()\n",
    "lg.fit(X_train, y_train)\n",
    "y_pred = lg.predict(X_test)\n",
    "\n",
    "accuracy = accuracy_score(y_test, y_pred)\n",
    "print(accuracy)"
   ]
  },
  {
   "cell_type": "code",
   "execution_count": 13,
   "id": "cd9a7be6",
   "metadata": {},
   "outputs": [
    {
     "data": {
      "text/plain": [
       "0    5174\n",
       "1    1869\n",
       "Name: Churn, dtype: int64"
      ]
     },
     "execution_count": 13,
     "metadata": {},
     "output_type": "execute_result"
    }
   ],
   "source": [
    "#CHECK IMBALANCE!!!\n",
    "\n",
    "data[\"Churn\"].value_counts()"
   ]
  },
  {
   "cell_type": "markdown",
   "id": "e3b08e13",
   "metadata": {},
   "source": [
    "### DOWNSAMPLING"
   ]
  },
  {
   "cell_type": "code",
   "execution_count": 14,
   "id": "967ec31b",
   "metadata": {},
   "outputs": [],
   "source": [
    "category_0=data[data[\"Churn\"]==0]\n",
    "category_1=data[data[\"Churn\"]==1]"
   ]
  },
  {
   "cell_type": "code",
   "execution_count": 15,
   "id": "aa2c13f2",
   "metadata": {},
   "outputs": [],
   "source": [
    "category_0=category_0.sample(frac=1)\n",
    "category_0=category_0.sample(1869)"
   ]
  },
  {
   "cell_type": "code",
   "execution_count": 16,
   "id": "ccd63954",
   "metadata": {},
   "outputs": [
    {
     "data": {
      "text/html": [
       "<div>\n",
       "<style scoped>\n",
       "    .dataframe tbody tr th:only-of-type {\n",
       "        vertical-align: middle;\n",
       "    }\n",
       "\n",
       "    .dataframe tbody tr th {\n",
       "        vertical-align: top;\n",
       "    }\n",
       "\n",
       "    .dataframe thead th {\n",
       "        text-align: right;\n",
       "    }\n",
       "</style>\n",
       "<table border=\"1\" class=\"dataframe\">\n",
       "  <thead>\n",
       "    <tr style=\"text-align: right;\">\n",
       "      <th></th>\n",
       "      <th>tenure</th>\n",
       "      <th>SeniorCitizen</th>\n",
       "      <th>MonthlyCharges</th>\n",
       "      <th>TotalCharges</th>\n",
       "      <th>Churn</th>\n",
       "    </tr>\n",
       "  </thead>\n",
       "  <tbody>\n",
       "    <tr>\n",
       "      <th>2297</th>\n",
       "      <td>0.880735</td>\n",
       "      <td>-0.439916</td>\n",
       "      <td>1.515170</td>\n",
       "      <td>1.593866</td>\n",
       "      <td>1</td>\n",
       "    </tr>\n",
       "    <tr>\n",
       "      <th>5798</th>\n",
       "      <td>-1.114563</td>\n",
       "      <td>-0.439916</td>\n",
       "      <td>0.679286</td>\n",
       "      <td>-0.798512</td>\n",
       "      <td>1</td>\n",
       "    </tr>\n",
       "    <tr>\n",
       "      <th>1663</th>\n",
       "      <td>0.758574</td>\n",
       "      <td>-0.439916</td>\n",
       "      <td>0.993366</td>\n",
       "      <td>1.116834</td>\n",
       "      <td>1</td>\n",
       "    </tr>\n",
       "    <tr>\n",
       "      <th>5547</th>\n",
       "      <td>-1.196004</td>\n",
       "      <td>-0.439916</td>\n",
       "      <td>0.820539</td>\n",
       "      <td>-0.901985</td>\n",
       "      <td>1</td>\n",
       "    </tr>\n",
       "    <tr>\n",
       "      <th>6452</th>\n",
       "      <td>-0.707359</td>\n",
       "      <td>-0.439916</td>\n",
       "      <td>0.764038</td>\n",
       "      <td>-0.459680</td>\n",
       "      <td>0</td>\n",
       "    </tr>\n",
       "    <tr>\n",
       "      <th>...</th>\n",
       "      <td>...</td>\n",
       "      <td>...</td>\n",
       "      <td>...</td>\n",
       "      <td>...</td>\n",
       "      <td>...</td>\n",
       "    </tr>\n",
       "    <tr>\n",
       "      <th>3382</th>\n",
       "      <td>1.613701</td>\n",
       "      <td>-0.439916</td>\n",
       "      <td>-1.303237</td>\n",
       "      <td>-0.183501</td>\n",
       "      <td>0</td>\n",
       "    </tr>\n",
       "    <tr>\n",
       "      <th>5049</th>\n",
       "      <td>-1.277445</td>\n",
       "      <td>-0.439916</td>\n",
       "      <td>-1.481050</td>\n",
       "      <td>-0.999232</td>\n",
       "      <td>1</td>\n",
       "    </tr>\n",
       "    <tr>\n",
       "      <th>3982</th>\n",
       "      <td>1.572981</td>\n",
       "      <td>-0.439916</td>\n",
       "      <td>-1.343121</td>\n",
       "      <td>-0.277592</td>\n",
       "      <td>0</td>\n",
       "    </tr>\n",
       "    <tr>\n",
       "      <th>4461</th>\n",
       "      <td>-0.137274</td>\n",
       "      <td>-0.439916</td>\n",
       "      <td>0.978410</td>\n",
       "      <td>0.143189</td>\n",
       "      <td>0</td>\n",
       "    </tr>\n",
       "    <tr>\n",
       "      <th>5447</th>\n",
       "      <td>-1.196004</td>\n",
       "      <td>-0.439916</td>\n",
       "      <td>-0.665107</td>\n",
       "      <td>-0.942782</td>\n",
       "      <td>0</td>\n",
       "    </tr>\n",
       "  </tbody>\n",
       "</table>\n",
       "<p>3738 rows × 5 columns</p>\n",
       "</div>"
      ],
      "text/plain": [
       "        tenure  SeniorCitizen  MonthlyCharges  TotalCharges  Churn\n",
       "2297  0.880735      -0.439916        1.515170      1.593866      1\n",
       "5798 -1.114563      -0.439916        0.679286     -0.798512      1\n",
       "1663  0.758574      -0.439916        0.993366      1.116834      1\n",
       "5547 -1.196004      -0.439916        0.820539     -0.901985      1\n",
       "6452 -0.707359      -0.439916        0.764038     -0.459680      0\n",
       "...        ...            ...             ...           ...    ...\n",
       "3382  1.613701      -0.439916       -1.303237     -0.183501      0\n",
       "5049 -1.277445      -0.439916       -1.481050     -0.999232      1\n",
       "3982  1.572981      -0.439916       -1.343121     -0.277592      0\n",
       "4461 -0.137274      -0.439916        0.978410      0.143189      0\n",
       "5447 -1.196004      -0.439916       -0.665107     -0.942782      0\n",
       "\n",
       "[3738 rows x 5 columns]"
      ]
     },
     "execution_count": 16,
     "metadata": {},
     "output_type": "execute_result"
    }
   ],
   "source": [
    "dwn=pd.concat([category_0,category_1],axis=0)\n",
    "dwn[\"Churn\"].value_counts()\n",
    "dwn=dwn.sample(frac=1)\n",
    "dwn"
   ]
  },
  {
   "cell_type": "code",
   "execution_count": 17,
   "id": "f935a8c5",
   "metadata": {},
   "outputs": [],
   "source": [
    "X = dwn.drop(\"Churn\",axis=1)\n",
    "y = dwn['Churn']\n",
    "X_train, X_test, y_train, y_test = train_test_split(X, y, test_size=0.2, random_state=42)"
   ]
  },
  {
   "cell_type": "code",
   "execution_count": 18,
   "id": "1fd64a56",
   "metadata": {},
   "outputs": [
    {
     "name": "stdout",
     "output_type": "stream",
     "text": [
      "0.8076650106458482\n"
     ]
    }
   ],
   "source": [
    "#APPLY LOGISTIC REGRESSION\n",
    "\n",
    "lg = LogisticRegression()\n",
    "lg.fit(X_train, y_train)\n",
    "y_pred = lg.predict(X_test)\n",
    "\n",
    "accuracy_dw = accuracy_score(y_test, y_pred)\n",
    "print(accuracy)"
   ]
  },
  {
   "cell_type": "markdown",
   "id": "40765384",
   "metadata": {},
   "source": [
    "### UPSAMPLING"
   ]
  },
  {
   "cell_type": "code",
   "execution_count": 19,
   "id": "5bcdb50f",
   "metadata": {},
   "outputs": [],
   "source": [
    "category_0=data[data[\"Churn\"]==0]\n",
    "category_1=data[data[\"Churn\"]==1]"
   ]
  },
  {
   "cell_type": "code",
   "execution_count": 20,
   "id": "f8f2648e",
   "metadata": {},
   "outputs": [
    {
     "data": {
      "text/html": [
       "<div>\n",
       "<style scoped>\n",
       "    .dataframe tbody tr th:only-of-type {\n",
       "        vertical-align: middle;\n",
       "    }\n",
       "\n",
       "    .dataframe tbody tr th {\n",
       "        vertical-align: top;\n",
       "    }\n",
       "\n",
       "    .dataframe thead th {\n",
       "        text-align: right;\n",
       "    }\n",
       "</style>\n",
       "<table border=\"1\" class=\"dataframe\">\n",
       "  <thead>\n",
       "    <tr style=\"text-align: right;\">\n",
       "      <th></th>\n",
       "      <th>tenure</th>\n",
       "      <th>SeniorCitizen</th>\n",
       "      <th>MonthlyCharges</th>\n",
       "      <th>TotalCharges</th>\n",
       "      <th>Churn</th>\n",
       "    </tr>\n",
       "  </thead>\n",
       "  <tbody>\n",
       "    <tr>\n",
       "      <th>3359</th>\n",
       "      <td>-0.463037</td>\n",
       "      <td>-0.439916</td>\n",
       "      <td>-1.489359</td>\n",
       "      <td>-0.824297</td>\n",
       "      <td>0</td>\n",
       "    </tr>\n",
       "    <tr>\n",
       "      <th>6806</th>\n",
       "      <td>0.310650</td>\n",
       "      <td>-0.439916</td>\n",
       "      <td>-1.517609</td>\n",
       "      <td>-0.663712</td>\n",
       "      <td>0</td>\n",
       "    </tr>\n",
       "    <tr>\n",
       "      <th>1833</th>\n",
       "      <td>-1.277445</td>\n",
       "      <td>-0.439916</td>\n",
       "      <td>-0.558752</td>\n",
       "      <td>-0.986980</td>\n",
       "      <td>0</td>\n",
       "    </tr>\n",
       "    <tr>\n",
       "      <th>4847</th>\n",
       "      <td>0.188489</td>\n",
       "      <td>2.273159</td>\n",
       "      <td>0.381825</td>\n",
       "      <td>0.246485</td>\n",
       "      <td>1</td>\n",
       "    </tr>\n",
       "    <tr>\n",
       "      <th>3410</th>\n",
       "      <td>-1.196004</td>\n",
       "      <td>-0.439916</td>\n",
       "      <td>-0.377617</td>\n",
       "      <td>-0.924834</td>\n",
       "      <td>1</td>\n",
       "    </tr>\n",
       "    <tr>\n",
       "      <th>...</th>\n",
       "      <td>...</td>\n",
       "      <td>...</td>\n",
       "      <td>...</td>\n",
       "      <td>...</td>\n",
       "      <td>...</td>\n",
       "    </tr>\n",
       "    <tr>\n",
       "      <th>3306</th>\n",
       "      <td>-1.196004</td>\n",
       "      <td>-0.439916</td>\n",
       "      <td>0.506459</td>\n",
       "      <td>-0.901609</td>\n",
       "      <td>0</td>\n",
       "    </tr>\n",
       "    <tr>\n",
       "      <th>6064</th>\n",
       "      <td>-1.277445</td>\n",
       "      <td>-0.439916</td>\n",
       "      <td>-0.646828</td>\n",
       "      <td>-0.988150</td>\n",
       "      <td>1</td>\n",
       "    </tr>\n",
       "    <tr>\n",
       "      <th>2395</th>\n",
       "      <td>-0.055834</td>\n",
       "      <td>2.273159</td>\n",
       "      <td>0.862084</td>\n",
       "      <td>0.243814</td>\n",
       "      <td>0</td>\n",
       "    </tr>\n",
       "    <tr>\n",
       "      <th>2231</th>\n",
       "      <td>-0.910961</td>\n",
       "      <td>-0.439916</td>\n",
       "      <td>0.174100</td>\n",
       "      <td>-0.681417</td>\n",
       "      <td>1</td>\n",
       "    </tr>\n",
       "    <tr>\n",
       "      <th>2095</th>\n",
       "      <td>-1.277445</td>\n",
       "      <td>-0.439916</td>\n",
       "      <td>0.504798</td>\n",
       "      <td>-0.972851</td>\n",
       "      <td>1</td>\n",
       "    </tr>\n",
       "  </tbody>\n",
       "</table>\n",
       "<p>10348 rows × 5 columns</p>\n",
       "</div>"
      ],
      "text/plain": [
       "        tenure  SeniorCitizen  MonthlyCharges  TotalCharges  Churn\n",
       "3359 -0.463037      -0.439916       -1.489359     -0.824297      0\n",
       "6806  0.310650      -0.439916       -1.517609     -0.663712      0\n",
       "1833 -1.277445      -0.439916       -0.558752     -0.986980      0\n",
       "4847  0.188489       2.273159        0.381825      0.246485      1\n",
       "3410 -1.196004      -0.439916       -0.377617     -0.924834      1\n",
       "...        ...            ...             ...           ...    ...\n",
       "3306 -1.196004      -0.439916        0.506459     -0.901609      0\n",
       "6064 -1.277445      -0.439916       -0.646828     -0.988150      1\n",
       "2395 -0.055834       2.273159        0.862084      0.243814      0\n",
       "2231 -0.910961      -0.439916        0.174100     -0.681417      1\n",
       "2095 -1.277445      -0.439916        0.504798     -0.972851      1\n",
       "\n",
       "[10348 rows x 5 columns]"
      ]
     },
     "execution_count": 20,
     "metadata": {},
     "output_type": "execute_result"
    }
   ],
   "source": [
    "category_1 = category_1.sample(frac=(5174/1869),replace=True)\n",
    "up=pd.concat([category_0,category_1],axis=0)\n",
    "up[\"Churn\"].value_counts()\n",
    "up=up.sample(frac=1)\n",
    "up"
   ]
  },
  {
   "cell_type": "code",
   "execution_count": 21,
   "id": "12679ba5",
   "metadata": {},
   "outputs": [],
   "source": [
    "X = up.drop(\"Churn\",axis=1)\n",
    "y = up['Churn']\n",
    "X_train, X_test, y_train, y_test = train_test_split(X, y, test_size=0.2, random_state=42)"
   ]
  },
  {
   "cell_type": "code",
   "execution_count": 22,
   "id": "e2b90b55",
   "metadata": {},
   "outputs": [
    {
     "name": "stdout",
     "output_type": "stream",
     "text": [
      "0.8076650106458482\n"
     ]
    }
   ],
   "source": [
    "#APPLY LOGISTIC REGRESSION\n",
    "\n",
    "lg = LogisticRegression()\n",
    "lg.fit(X_train, y_train)\n",
    "y_pred = lg.predict(X_test)\n",
    "\n",
    "accuracy_up= accuracy_score(y_test, y_pred)\n",
    "print(accuracy)"
   ]
  },
  {
   "cell_type": "code",
   "execution_count": 24,
   "id": "60987c21",
   "metadata": {},
   "outputs": [
    {
     "name": "stdout",
     "output_type": "stream",
     "text": [
      "Accuracy with imbalance:  0.8076650106458482\n",
      "Accuracy downsampling:  0.7232620320855615\n",
      "Accuracy upsampling:  0.72512077294686\n"
     ]
    }
   ],
   "source": [
    "print(\"Accuracy with imbalance: \",accuracy)\n",
    "print(\"Accuracy downsampling: \",accuracy_dw)\n",
    "print(\"Accuracy upsampling: \",accuracy_up)"
   ]
  },
  {
   "cell_type": "code",
   "execution_count": null,
   "id": "6eee4624",
   "metadata": {},
   "outputs": [],
   "source": []
  }
 ],
 "metadata": {
  "kernelspec": {
   "display_name": "Python 3 (ipykernel)",
   "language": "python",
   "name": "python3"
  },
  "language_info": {
   "codemirror_mode": {
    "name": "ipython",
    "version": 3
   },
   "file_extension": ".py",
   "mimetype": "text/x-python",
   "name": "python",
   "nbconvert_exporter": "python",
   "pygments_lexer": "ipython3",
   "version": "3.9.13"
  }
 },
 "nbformat": 4,
 "nbformat_minor": 5
}
